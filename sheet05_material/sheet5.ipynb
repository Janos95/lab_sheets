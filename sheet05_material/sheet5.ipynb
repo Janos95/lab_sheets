{
 "cells": [
  {
   "cell_type": "code",
   "execution_count": null,
   "metadata": {},
   "outputs": [],
   "source": [
    "import numpy as np\n",
    "from sklearn.preprocessing import normalize\n",
    "import matplotlib.pyplot as plt\n"
   ]
  },
  {
   "cell_type": "code",
   "execution_count": null,
   "metadata": {},
   "outputs": [],
   "source": [
    "def ReLU(X):\n",
    "    return np.maximum(0,X)\n",
    "\n",
    "def ReLU_Derivative(X):\n",
    "    return X > 0\n",
    "\n",
    "class TwoLayerNN:\n",
    "    def __init__(self, numInput, numHidden):\n",
    "        self.W1 = np.random.rand(numInput, numHidden)*2-1\n",
    "        self.b2 = np.random.rand(numHidden)*2-1\n",
    "        self.W2 = np.random.rand(numHidden, 1)*2-1\n",
    "        self.b3 = np.random.rand(1)*2-1\n",
    "        \n",
    "    def feedForward(self, X):\n",
    "        net2 = self.W1.T @ X.T + self.b2[:,np.newaxis]\n",
    "        o2 = ReLU(net2) \n",
    "        net3 = self.W2.T @ o2 + self.b3[:,np.newaxis]\n",
    "        return net3\n",
    "    \n",
    "    def backprop(self, X, Y):\n",
    "        net2 = self.W1.T @ X.T + self.b2[:,np.newaxis]\n",
    "        o2 = ReLU(net2) \n",
    "        net3 = self.W2.T @ o2 + self.b3[:,np.newaxis]\n",
    "        \n",
    "        delta2 = 2*(net3 - Y) \n",
    "        \n",
    "        self.b3_gradient = delta2 \n",
    "        self.W2_gradient = o2 @ delta2.T \n",
    "\n",
    "        delta1 = self.W2 @ delta2 \n",
    "        \n",
    "        o2_deriv = ReLU_Derivative(net2) \n",
    "        \n",
    "        self.b2_gradient = delta1 * o2_deriv \n",
    "        self.W1_gradient = X.T @ (self.b2_gradient).T \n",
    "        \n",
    "    def draw(self, X, Y, K):\n",
    "        assert(X.shape[0] == Y.shape[0])\n",
    "        indices = np.random.choice(X.shape[0], K, replace=False)\n",
    "        return X[indices], Y[indices]\n",
    "    \n",
    "    def fit(self, X, Y, nu, K, numIterations):\n",
    "        \n",
    "        for i in range(numIterations):\n",
    "            X_batch, Y_batch = self.draw(X, Y, K)\n",
    "            self.backprop(X_batch, Y_batch)\n",
    "            self.W1 -= nu*self.W1_gradient\n",
    "            self.b2 -= nu*np.sum(self.b2_gradient, axis = 1)\n",
    "            self.W2 -= nu*self.W2_gradient\n",
    "            self.b3 -= nu*np.sum(self.b3_gradient, axis = 1)\n",
    "            \n",
    "            if i % 5000 == 0:\n",
    "                diff = self.feedForward(X)-Y\n",
    "                print(\"The lse is \", np.inner(diff, diff))\n",
    "               "
   ]
  },
  {
   "cell_type": "code",
   "execution_count": null,
   "metadata": {},
   "outputs": [],
   "source": [
    "def PlotContourLine(func, value=0, minx=0, maxx=10, miny=0, maxy=10):\n",
    "    #This plots the contourline func(x) = value\n",
    "    \n",
    "    samplenum = 1000\n",
    "    xrange = np.arange(minx, maxx, (maxx-minx)/samplenum)\n",
    "    yrange = np.arange(miny, maxy, (maxy-miny)/samplenum)\n",
    "    \n",
    "    #This generates a two-dimensional mesh\n",
    "    X, Y = np.meshgrid(xrange,yrange)\n",
    "    \n",
    "    argsForf = np.array([X.flatten(),Y.flatten()]).T\n",
    "    Z = func(argsForf)\n",
    "    Z = np.reshape(Z,X.shape)\n",
    "    \n",
    "    plt.xlim(minx, maxx)\n",
    "    plt.ylim(miny, maxy)\n",
    "    plt.xlabel(r'$x_1$')\n",
    "    plt.ylabel(r'$x_2$')\n",
    "    #plt.contour(X, Y, Z, alpha=0.5,levels=[value],linestyles='dashed',linewidths=3)\n",
    "    Z = np.where(Z > value, 1, -1)\n",
    "    plt.contourf(X, Y, Z, alpha=0.2, colors=('red', 'blue'))\n"
   ]
  },
  {
   "cell_type": "code",
   "execution_count": null,
   "metadata": {},
   "outputs": [],
   "source": [
    "b = np.random.multivariate_normal(np.zeros(2), np.eye(2), 10000) \n",
    "u = np.power(np.random.rand(10000)*4, 0.5)\n",
    "b = normalize(b) * u.reshape(u.size,1)\n",
    "norms = np.linalg.norm(b, axis = 1)\n",
    "x = np.append(b[norms < 1][:250], b[norms > 1][:250], axis = 0)\n",
    "y = np.append(-np.ones(250), np.ones(250))\n",
    "\n",
    "clf = TwoLayerNN(2,20)\n",
    "clf.fit(x,y,0.001,10,50000)\n",
    "\n",
    "plt.scatter(x[:250,0],x[:250,1],c='orange')\n",
    "plt.scatter(x[250:,0],x[250:,1],c='blue')\n",
    "PlotContourLine(clf.feedForward,0,-2,2,-2,2)"
   ]
  }
 ],
 "metadata": {
  "kernelspec": {
   "display_name": "Python 3",
   "language": "python",
   "name": "python3"
  },
  "language_info": {
   "codemirror_mode": {
    "name": "ipython",
    "version": 3
   },
   "file_extension": ".py",
   "mimetype": "text/x-python",
   "name": "python",
   "nbconvert_exporter": "python",
   "pygments_lexer": "ipython3",
   "version": "3.5.2"
  }
 },
 "nbformat": 4,
 "nbformat_minor": 2
}
