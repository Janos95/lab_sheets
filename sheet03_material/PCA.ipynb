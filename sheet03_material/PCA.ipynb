{
 "cells": [
  {
   "cell_type": "markdown",
   "metadata": {},
   "source": [
    "# Principal Component Analysis\n",
    "\n",
    "In this exercise sheet we look into how to compute and apply a Principal Component Analysis (PCA)."
   ]
  },
  {
   "cell_type": "code",
   "execution_count": 1,
   "metadata": {},
   "outputs": [],
   "source": [
    "import numpy as np\n",
    "import mllab.pca\n",
    "import matplotlib.pyplot as plt\n",
    "from sklearn.decomposition import PCA"
   ]
  },
  {
   "cell_type": "markdown",
   "metadata": {},
   "source": [
    "### Task 3.1 - PCA Implementation\n",
    "\n",
    "Implement the `pca()` function below using either a singular value decomposition or an eigenvector decomposition."
   ]
  },
  {
   "cell_type": "code",
   "execution_count": null,
   "metadata": {},
   "outputs": [],
   "source": [
    "def pca(x, q):\n",
    "    \"\"\"\n",
    "    Compute principal components and the coordinates.\n",
    "    \n",
    "    Parameters\n",
    "    ----------\n",
    "    \n",
    "    x: (n, d) NumPy array\n",
    "    q: int\n",
    "       The number of principal components to compute.\n",
    "       Has to be less than `p`.\n",
    "\n",
    "    Returns\n",
    "    -------\n",
    "    \n",
    "    Vq: (d, q) NumPy array, orthonormal vectors (column-wise)\n",
    "    xq: (n, q) NumPy array, coordinates for x (row-wise)\n",
    "    \"\"\"\n",
    "    # You code goes here\n",
    "    w, v = np.linalg.eigh(np.dot(x.T,x))\n",
    "    Vq = v[:,x.shape[1]-q:]\n",
    "    xq = np.dot(Vq.T,(x-np.mean(x,axis=0)).T).T\n",
    "    return Vq, xq"
   ]
  },
  {
   "cell_type": "markdown",
   "metadata": {},
   "source": [
    "### Task 3.2 - Toy 4D Example\n",
    "\n",
    "We start by loading our toy example. The data is stored as a Numpy array, it is a $2585\\times 5$ matrix. The last component of each row is the label, the first four components are the coordinates in 4D. Each label is an integer from  $\\{0, 1, 2, 3, 4\\}$.\n",
    "\n",
    "The data contains a noisy 2D plane which is embded into 4D. We would like to represent the data in its _intrinsic_ 2D form."
   ]
  },
  {
   "cell_type": "code",
   "execution_count": null,
   "metadata": {},
   "outputs": [],
   "source": [
    "import numpy as np\n",
    "import mllab.pca\n",
    "\n",
    "pca_toy_4d = np.load(\"data/pca_toy_4d.npy\")\n",
    "x = pca_toy_4d[:, :-1]  # 4D coordinates\n",
    "y = pca_toy_4d[:, -1]  # labels"
   ]
  },
  {
   "cell_type": "markdown",
   "metadata": {},
   "source": [
    "**Let us plot slices from this 4D data.**\n",
    "\n",
    "We provide a helper function for this:"
   ]
  },
  {
   "cell_type": "code",
   "execution_count": null,
   "metadata": {},
   "outputs": [],
   "source": [
    "# Show documentation\n",
    "mllab.pca.plot_toy_slice?"
   ]
  },
  {
   "cell_type": "code",
   "execution_count": null,
   "metadata": {},
   "outputs": [],
   "source": [
    "# Your code goes here\n",
    "mllab.pca.plot_toy_slice(x,y,2)"
   ]
  },
  {
   "cell_type": "markdown",
   "metadata": {},
   "source": [
    "We want to remove the noise and recover the 2D information."
   ]
  },
  {
   "cell_type": "markdown",
   "metadata": {},
   "source": [
    "**PCA transformation for $q=2$, and plot.**\n",
    "\n",
    "Now we can compute the 2D dimensional representation of `x` using PCA."
   ]
  },
  {
   "cell_type": "code",
   "execution_count": null,
   "metadata": {},
   "outputs": [],
   "source": [
    "# Compute transformation\n",
    "Vq, xq = pca(x,2)"
   ]
  },
  {
   "cell_type": "markdown",
   "metadata": {},
   "source": [
    "And then plot the coordinates, which are two dimensional. We provide a helper function for this task. Let us check how to use it:"
   ]
  },
  {
   "cell_type": "code",
   "execution_count": null,
   "metadata": {},
   "outputs": [],
   "source": [
    "mllab.pca.plot_toy_2d?"
   ]
  },
  {
   "cell_type": "code",
   "execution_count": null,
   "metadata": {},
   "outputs": [],
   "source": [
    "# Plot\n",
    "mllab.pca.plot_toy_2d(xq, y)"
   ]
  },
  {
   "cell_type": "markdown",
   "metadata": {},
   "source": [
    "Hopefully you appreciate the result.\n",
    "\n",
    "**Check non-linear transformation.**\n",
    "\n",
    "Let us see how PCA handles a non-linear transformation. To test this we map our data into 3D by keeping the y-axis as the new z-axis and bending x-coordinate onto an ellipse."
   ]
  },
  {
   "cell_type": "code",
   "execution_count": null,
   "metadata": {},
   "outputs": [],
   "source": [
    "mllab.pca.map_on_ellipse?"
   ]
  },
  {
   "cell_type": "code",
   "execution_count": null,
   "metadata": {},
   "outputs": [],
   "source": [
    "# Map on ellipse in 3D using mallab.pca.map_on_ellipse\n",
    "num_samples = 5\n",
    "axis1 = np.random.rand(num_samples)*6+.1\n",
    "degrees = np.random.randint(360, size=num_samples)\n",
    "\n",
    "print(degrees)\n",
    "\n",
    "xq_transformed = np.zeros((num_samples, xq.shape[0], 3))\n",
    "for i in range(num_samples):\n",
    "    xq_transformed[i] = mllab.pca.map_on_ellipse(xq,axis1[i],1,degrees[i])"
   ]
  },
  {
   "cell_type": "code",
   "execution_count": null,
   "metadata": {},
   "outputs": [],
   "source": [
    "mllab.pca.plot_toy_3d?"
   ]
  },
  {
   "cell_type": "code",
   "execution_count": null,
   "metadata": {},
   "outputs": [],
   "source": [
    "%matplotlib notebook\n",
    "# Plot 3D using mllab.pca.plot_toy_3d\n",
    "for i in range(num_samples):\n",
    "    mllab.pca.plot_toy_3d(xq_transformed[i],y)"
   ]
  },
  {
   "cell_type": "markdown",
   "metadata": {},
   "source": [
    "**(Remeber to stop the interactive plot by pressing the shutdown icon!)**\n",
    "\n",
    "Now apply PCA to our transformed data and plot the result as before."
   ]
  },
  {
   "cell_type": "code",
   "execution_count": null,
   "metadata": {},
   "outputs": [],
   "source": [
    "%matplotlib inline\n",
    "# Transform back to 2D\n",
    "for i in range(num_samples):\n",
    "    Vq, xq = pca(xq_transformed[i], 2)\n",
    "    print(\"Angle={}, a={}\".format(degrees[i], axis1[i]))\n",
    "    mllab.pca.plot_toy_2d(xq,y)\n",
    "# Plot with mllab.pca.plot_toy_2d"
   ]
  },
  {
   "cell_type": "markdown",
   "metadata": {},
   "source": [
    "Could be worse, but undeniably discomforting. Try different axes lengths and gap sizes of the ellipse. What do you observe?"
   ]
  },
  {
   "cell_type": "markdown",
   "metadata": {},
   "source": [
    "### Task 3.3 - PCA on Iris\n",
    "\n",
    "First compute the singular values of the Iris dataset, then check how many percent of the variance the first two principal components capture."
   ]
  },
  {
   "cell_type": "code",
   "execution_count": null,
   "metadata": {},
   "outputs": [],
   "source": [
    "from sklearn.datasets import load_iris\n",
    "iris = load_iris()\n",
    "iris_x = iris['data']\n",
    "iris_y = iris['target']"
   ]
  },
  {
   "cell_type": "code",
   "execution_count": null,
   "metadata": {},
   "outputs": [],
   "source": [
    "# Compute singular values\n",
    "import numpy.matlib\n",
    "s = np.linalg.svd(iris_x, full_matrices=False, compute_uv = False)\n",
    "\n",
    "# Plot captured variance for q=1,2\n",
    "print(np.power(np.linalg.norm(np.triu(np.matlib.repmat(np.flip(s,0),4,1), -1),axis=1),2)/np.dot(s,s))\n"
   ]
  },
  {
   "cell_type": "markdown",
   "metadata": {},
   "source": [
    "**Plot 2D PCA.**\n",
    "\n",
    "Now apply PCAFalse and compute the first two principal components. Plot the projected 2D data in a scatter plot such that the three labels are recognizable. What do you observe?"
   ]
  },
  {
   "cell_type": "code",
   "execution_count": null,
   "metadata": {},
   "outputs": [],
   "source": [
    "# Scatter plot 2d\n",
    "Vq, xq = pca(iris_x, 2)\n",
    "mllab.pca.plot_toy_2d(xq,iris_y)"
   ]
  },
  {
   "cell_type": "code",
   "execution_count": null,
   "metadata": {},
   "outputs": [],
   "source": [
    "def plot_1d_iris(a, b, c):\n",
    "    \"\"\"Show a 1D plot of three 1D datasets a, b and c.\n",
    "    \n",
    "    Top to bottom plotted in order is a, b, c.\"\"\"\n",
    "    left = min(x.min() for x in (a, b, c))\n",
    "    right = max(x.max() for x in (a, b, c))\n",
    "    for i, (x, c) in enumerate(((a, 'red'), (b, 'blue'), (c, 'green'))):\n",
    "        plt.hlines(i * .3, left, right, linestyles='dotted', colors=[(.8,.8,.8,1)])\n",
    "        plt.eventplot(x, colors=c, linewidths=.5, linelengths=.25, lineoffsets=(2 - i) * .3)\n",
    "    plt.axis('off')\n",
    "\n",
    "# Plot 1d\n",
    "Vq, xq = pca(iris_x, 1)\n",
    "xq = xq.reshape(-1)\n",
    "plot_1d_iris(xq[:50],xq[50:100],xq[100:])"
   ]
  },
  {
   "cell_type": "markdown",
   "metadata": {},
   "source": [
    "**Build linear SVM classifier for Iris.**"
   ]
  },
  {
   "cell_type": "code",
   "execution_count": null,
   "metadata": {},
   "outputs": [],
   "source": [
    "# Your classifier here\n",
    "from sklearn.svm import LinearSVC\n",
    "from sklearn.metrics import confusion_matrix\n",
    "\n",
    "class irisClassifier:\n",
    "    def __init__(self, dim):\n",
    "        self.clf1_ = LinearSVC(random_state=0)\n",
    "        self.clf2_ = LinearSVC(random_state=1)\n",
    "        self.dim_ = dim\n",
    "        \n",
    "    def fit(self, iris_x, iris_y):\n",
    "        Vq, xq = pca(iris_x, self.dim_)\n",
    "        self.clf1_.fit(xq, iris_y > 1.5)\n",
    "        mask = self.clf1_.predict(xq) == 0\n",
    "        print(mask)\n",
    "        self.clf2_.fit(xq[mask], iris_y[mask] > 0.5)\n",
    "    \n",
    "    def predict(self, x):\n",
    "        Vq, xq = pca(x, self.dim_)\n",
    "        prediction = self.clf1_.predict(xq)\n",
    "        mask = prediction == 0\n",
    "        prediction = prediction * 2\n",
    "        prediction[mask] = self.clf2_.predict(xq[mask])\n",
    "        return prediction\n",
    "        \n",
    "# Print accuracy on 1, 2, and 4 dimensions.\n",
    "\n",
    "clf = irisClassifier(2)\n",
    "clf.fit(iris_x,iris_y)\n",
    "\n",
    "c = confusion_matrix(clf.predict(iris_x), iris_y)\n",
    "print(c.trace()/iris_y.size)\n"
   ]
  },
  {
   "cell_type": "markdown",
   "metadata": {},
   "source": [
    "## Pedestrian Classification\n",
    "\n",
    "### Task 3.4"
   ]
  },
  {
   "cell_type": "code",
   "execution_count": 2,
   "metadata": {},
   "outputs": [],
   "source": [
    "input_file_path = \"data/pca_ped_25x50.mat\""
   ]
  },
  {
   "cell_type": "markdown",
   "metadata": {},
   "source": [
    "__Rread the file above into a NumPy array__"
   ]
  },
  {
   "cell_type": "code",
   "execution_count": 3,
   "metadata": {},
   "outputs": [],
   "source": [
    "# Your code here\n",
    "import scipy.io\n",
    "ped_data = scipy.io.loadmat(input_file_path)"
   ]
  },
  {
   "cell_type": "markdown",
   "metadata": {},
   "source": [
    "__Get the training data out__"
   ]
  },
  {
   "cell_type": "code",
   "execution_count": 4,
   "metadata": {},
   "outputs": [],
   "source": [
    "# Your code here\n",
    "x = np.append(ped_data['ped_train_int_25x50'].T[1:].T,ped_data['garb_train_int_25x50'].T[1:].T,axis=0)\n",
    "y = np.append(ped_data['ped_train_int_25x50'].T[:1].T,ped_data['garb_train_int_25x50'].T[:1].T)\n",
    "\n",
    "x_test = np.append(ped_data['ped_test_int_25x50'].T[1:].T,ped_data['garb_test_int_25x50'].T[1:].T,axis=0)\n",
    "y_test = np.append(ped_data['ped_test_int_25x50'].T[:1].T,ped_data['garb_test_int_25x50'].T[:1].T)"
   ]
  },
  {
   "cell_type": "markdown",
   "metadata": {},
   "source": [
    "__Normalize the data to the range [0, 1]__"
   ]
  },
  {
   "cell_type": "code",
   "execution_count": 5,
   "metadata": {},
   "outputs": [],
   "source": [
    "# Your code here\n",
    "x_n = (x-np.amin(x))/(np.amax(x)-np.amin(x))\n",
    "x_test_n = (x_test-np.amin(x_test))/(np.amax(x_test)-np.amin(x_test))"
   ]
  },
  {
   "cell_type": "markdown",
   "metadata": {},
   "source": [
    "__Write a function to plot an image__"
   ]
  },
  {
   "cell_type": "code",
   "execution_count": null,
   "metadata": {},
   "outputs": [],
   "source": [
    "# Your code here\n",
    "def plot_im(idx,x):\n",
    "    plt.imshow(x[idx].reshape(25,50).T, vmin=0, vmax=1, cmap='gray')\n",
    "    plt.show()"
   ]
  },
  {
   "cell_type": "code",
   "execution_count": null,
   "metadata": {},
   "outputs": [],
   "source": [
    "# Plot samples\n",
    "for i in np.random.randint(0,1500,10):\n",
    "    plot_im(i,x_n)\n",
    "for i in np.random.randint(1500,3000,10):\n",
    "    plot_im(i,x_n)"
   ]
  },
  {
   "cell_type": "markdown",
   "metadata": {},
   "source": [
    "### Task 3.5 - Eigenpedestrians"
   ]
  },
  {
   "cell_type": "code",
   "execution_count": null,
   "metadata": {},
   "outputs": [],
   "source": [
    "\n",
    "# Compute PCA\n",
    "pca = PCA(25*50)\n",
    "pca.fit(x_n)"
   ]
  },
  {
   "cell_type": "code",
   "execution_count": null,
   "metadata": {},
   "outputs": [],
   "source": [
    "# Plot some eigenpedestrians\n",
    "\n",
    "components_n = (pca.components_ - np.amin(pca.components_))/(np.amax(pca.components_)-np.amin(pca.components_))\n",
    "\n",
    "for i in list(range(20))+list(range(50,60))+list(range(100,110)):\n",
    "    plot_im(i,components_n)"
   ]
  },
  {
   "cell_type": "markdown",
   "metadata": {},
   "source": [
    "### Task 3.6 - Linear SVM classifier"
   ]
  },
  {
   "cell_type": "code",
   "execution_count": null,
   "metadata": {},
   "outputs": [],
   "source": [
    "from sklearn.svm import LinearSVC\n",
    "from sklearn.metrics import accuracy_score\n",
    "import multiprocessing as mp\n",
    "\n",
    "\n",
    "# Compute scores of linear SVM when using increasing q\n",
    "pca = PCA(25*50)\n",
    "x_transformed = pca.fit_transform(x_n)\n",
    "x_test_transformed = pca.transform(x_test_n)\n",
    "\n",
    "def fitSVM(i):\n",
    "    print(\"Fitting model using {} principal components\".format(i))\n",
    "    clf = LinearSVC(random_state=0, dual=False)\n",
    "    clf.fit(x_transformed[:,:i],y) \n",
    "    score_test = accuracy_score(y_test, clf.predict(x_test_transformed[:,:i]))\n",
    "    score_train = accuracy_score(y, clf.predict(x_transformed[:,:i]))\n",
    "    return (score_test, score_train, i)\n",
    "\n",
    "pool = mp.Pool(processes=4)\n",
    "results = pool.map(fitSVM, range(10,1250,25))\n",
    "\n",
    "results.sort(key=lambda triple: triple[2])  \n",
    "\n",
    "      \n",
    "\n",
    "\n"
   ]
  },
  {
   "cell_type": "code",
   "execution_count": null,
   "metadata": {},
   "outputs": [],
   "source": [
    "# Plot q vs scores\n",
    "plt.scatter(list(range(10,1250,25)),[triple[0] for triple in results], c='red')\n",
    "plt.scatter(list(range(10,1250,25)),[triple[1] for triple in results], c='blue')"
   ]
  },
  {
   "cell_type": "markdown",
   "metadata": {},
   "source": [
    "### Task 3.7 - HOG features"
   ]
  },
  {
   "cell_type": "code",
   "execution_count": 6,
   "metadata": {},
   "outputs": [],
   "source": [
    "# Implement HOG features\n",
    "import hog"
   ]
  },
  {
   "cell_type": "markdown",
   "metadata": {},
   "source": [
    "**To test you implementation test data is availabe.**\n",
    "\n",
    "The array `image` is the input, and `steps` contains the values of the inner variables of the HOG algorithm."
   ]
  },
  {
   "cell_type": "code",
   "execution_count": 7,
   "metadata": {},
   "outputs": [
    {
     "name": "stdout",
     "output_type": "stream",
     "text": [
      "Number of bins: 9\n",
      "Cell size: 8\n",
      "Block size: 2\n",
      "Unsigned directions: True\n",
      "Clip value: 0.2\n",
      "0.5664230880065588\n"
     ]
    }
   ],
   "source": [
    "image, steps = mllab.pca.hog_test_data()\n",
    "\n",
    "import timeit\n",
    "start_time = timeit.default_timer()\n",
    "\n",
    "hogs = hog.extract(x_n.reshape(3000,25,50))\n",
    "hogs_test = hog.extract(x_test_n.reshape(1000,25,50))\n",
    "   \n",
    "\n",
    "elapsed = timeit.default_timer() - start_time\n",
    "print(elapsed)"
   ]
  },
  {
   "cell_type": "markdown",
   "metadata": {},
   "source": [
    "** Repeat task 3.6 with the HOG features.**"
   ]
  },
  {
   "cell_type": "code",
   "execution_count": 10,
   "metadata": {},
   "outputs": [
    {
     "ename": "NameError",
     "evalue": "name 'mp' is not defined",
     "output_type": "error",
     "traceback": [
      "\u001b[0;31m---------------------------------------------------------------------------\u001b[0m",
      "\u001b[0;31mNameError\u001b[0m                                 Traceback (most recent call last)",
      "\u001b[0;32m<ipython-input-10-badf8f2414bf>\u001b[0m in \u001b[0;36m<module>\u001b[0;34m()\u001b[0m\n\u001b[1;32m     20\u001b[0m     \u001b[0;32mreturn\u001b[0m \u001b[0;34m(\u001b[0m\u001b[0mscore_test\u001b[0m\u001b[0;34m,\u001b[0m \u001b[0mscore_train\u001b[0m\u001b[0;34m,\u001b[0m \u001b[0mi\u001b[0m\u001b[0;34m)\u001b[0m\u001b[0;34m\u001b[0m\u001b[0m\n\u001b[1;32m     21\u001b[0m \u001b[0;34m\u001b[0m\u001b[0m\n\u001b[0;32m---> 22\u001b[0;31m \u001b[0mpool\u001b[0m \u001b[0;34m=\u001b[0m \u001b[0mmp\u001b[0m\u001b[0;34m.\u001b[0m\u001b[0mPool\u001b[0m\u001b[0;34m(\u001b[0m\u001b[0mprocesses\u001b[0m\u001b[0;34m=\u001b[0m\u001b[0;36m4\u001b[0m\u001b[0;34m)\u001b[0m\u001b[0;34m\u001b[0m\u001b[0m\n\u001b[0m\u001b[1;32m     23\u001b[0m \u001b[0mresults\u001b[0m \u001b[0;34m=\u001b[0m \u001b[0mpool\u001b[0m\u001b[0;34m.\u001b[0m\u001b[0mmap\u001b[0m\u001b[0;34m(\u001b[0m\u001b[0mfitSVM\u001b[0m\u001b[0;34m,\u001b[0m \u001b[0mrange\u001b[0m\u001b[0;34m(\u001b[0m\u001b[0;36m10\u001b[0m\u001b[0;34m,\u001b[0m\u001b[0;36m360\u001b[0m\u001b[0;34m,\u001b[0m\u001b[0;36m10\u001b[0m\u001b[0;34m)\u001b[0m\u001b[0;34m)\u001b[0m\u001b[0;34m\u001b[0m\u001b[0m\n\u001b[1;32m     24\u001b[0m \u001b[0;34m\u001b[0m\u001b[0m\n",
      "\u001b[0;31mNameError\u001b[0m: name 'mp' is not defined"
     ]
    }
   ],
   "source": [
    "# Your code here\n",
    "hogs = np.zeros(shape=(x_n.shape[0], 360))\n",
    "hogs_test = np.zeros(shape=(x_test_n.shape[0], 360))\n",
    "for i in range(x_n.shape[0]):\n",
    "    hogs[i] = hog.extract(x_n[i].reshape(25,50))\n",
    "for i in range(x_test_n.shape[0]) :\n",
    "    hogs_test[i] = hog.extract(x_test_n[i].reshape(25,50))\n",
    "\n",
    "\n",
    "pca = PCA(hogs[0].size)    \n",
    "hogs_transformed = pca.fit_transform(hogs)\n",
    "hogs_test_transformed = pca.transform(hogs_test)\n",
    "\n",
    "def fitSVM(i):\n",
    "    print(\"Fitting model using {} principal components\".format(i))\n",
    "    clf = LinearSVC(random_state=0, dual=False)\n",
    "    clf.fit(hogs_transformed[:,:i],y) \n",
    "    score_test = accuracy_score(y_test, clf.predict(hogs_test_transformed[:,:i]))\n",
    "    score_train = accuracy_score(y, clf.predict(hogs_transformed[:,:i]))\n",
    "    return (score_test, score_train, i)\n",
    "\n",
    "pool = mp.Pool(processes=4)\n",
    "results = pool.map(fitSVM, range(10,360,10))\n",
    "\n",
    "results.sort(key=lambda triple: triple[2])\n",
    "\n",
    "plt.scatter(list(range(10,360,10)),[triple[0] for triple in results], c='red')\n",
    "plt.scatter(list(range(10,360,10)),[triple[1] for triple in results], c='blue')"
   ]
  }
 ],
 "metadata": {
  "kernelspec": {
   "display_name": "Python 3",
   "language": "python",
   "name": "python3"
  },
  "language_info": {
   "codemirror_mode": {
    "name": "ipython",
    "version": 3
   },
   "file_extension": ".py",
   "mimetype": "text/x-python",
   "name": "python",
   "nbconvert_exporter": "python",
   "pygments_lexer": "ipython3",
   "version": "3.5.2"
  }
 },
 "nbformat": 4,
 "nbformat_minor": 2
}
