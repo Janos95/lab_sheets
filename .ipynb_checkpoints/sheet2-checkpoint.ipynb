{
 "cells": [
  {
   "cell_type": "code",
   "execution_count": 1,
   "metadata": {},
   "outputs": [],
   "source": [
    "#dependancies from last exercise sheet\n",
    "\n",
    "def PlotContourLine(func, value=0, minx=0, maxx=10, miny=0, maxy=10):\n",
    "    #This plots the contourline func(x) = value\n",
    "    \n",
    "    samplenum = 1000\n",
    "    xrange = np.arange(minx, maxx, (maxx-minx)/samplenum)\n",
    "    yrange = np.arange(miny, maxy, (maxy-miny)/samplenum)\n",
    "    \n",
    "    #This generates a two-dimensional mesh\n",
    "    X, Y = np.meshgrid(xrange,yrange)\n",
    "    \n",
    "    argsForf = np.array([X.flatten(),Y.flatten()]).T\n",
    "    Z = func(argsForf)\n",
    "    Z = np.reshape(Z,X.shape)\n",
    "    \n",
    "    plt.xlim(minx, maxx)\n",
    "    plt.ylim(miny, maxy)\n",
    "    plt.xlabel(r'$x_1$')\n",
    "    plt.ylabel(r'$x_2$')\n",
    "    #plt.contour(X, Y, Z, alpha=0.5,levels=[value],linestyles='dashed',linewidths=3)\n",
    "    Z = np.where(Z > value, 1, -1)\n",
    "    plt.contourf(X, Y, Z, alpha=0.2, colors=('red', 'blue'))\n",
    "    \n",
    "def compute_confusion_matrix(f, x, y, n):\n",
    "    c = np.empty((n,n))\n",
    "    y_predicted = np.sign(f(x))\n",
    "    for i in range(0, n):\n",
    "        for j in range(0, n):\n",
    "            c[i,j] = np.sum(np.logical_and(y_predicted == i, y == j))\n",
    "    return c\n",
    "\n",
    "import numpy.linalg as LA\n",
    "#this function solves the linear least squares problem using a qr factorization.\n",
    "#If x and y are nxk and nx1 arrays then alpha is an \n",
    "def lls(x,y):\n",
    "    X_hat = np.hstack((np.ones((x.shape[0],1)), x))\n",
    "    b = np.dot(X_hat.T, y)\n",
    "    q, r = LA.qr(np.dot(X_hat.T, X_hat))\n",
    "    p = np.dot(q.T, b)\n",
    "    alpha = np.dot(LA.inv(r), p)\n",
    "    #return a function that applies alpha\n",
    "    return (lambda t: np.dot(np.hstack((np.ones((t.shape[0],1)), t)), alpha))"
   ]
  },
  {
   "cell_type": "code",
   "execution_count": 15,
   "metadata": {},
   "outputs": [],
   "source": [
    "import numpy as np\n",
    "\n",
    "\n",
    "#this class wraps our classifier function f and it \n",
    "#provides a a member method to perform the OneStep function \n",
    "#on our parameters beta and b.\n",
    "class Classifier:\n",
    "    def __init__(self, x, y, C, kernel = np.dot):\n",
    "        self.x = x\n",
    "        self.y = y\n",
    "        self.C = C\n",
    "        self.kernel = kernel\n",
    "        self.beta = np.zeros(y.size)\n",
    "        self.b = .0\n",
    "        self.b_old = .0\n",
    "        self.fx = np.zeros(y.size)\n",
    "\n",
    "    def OneStep(self, i, j):\n",
    "        beta_i_old = self.beta[i]\n",
    "        beta_j_old = self.beta[j]\n",
    "        delta = self.y[i]*((self.fx[j]-self.y[j])-(self.fx[i]-self.y[i]))\n",
    "        s = self.y[i]*self.y[j]\n",
    "        chi = self.kernel(self.x[i], self.x[i].T) \\\n",
    "            +self.kernel(self.x[j], self.x[j].T) \\\n",
    "            -2*self.kernel(self.x[i], self.x[j].T)\n",
    "        gamma = s*self.beta[i]+self.beta[j]\n",
    "        \n",
    "        if s == 1:\n",
    "            L = max(0,gamma-self.C)\n",
    "            H = min(gamma, self.C)\n",
    "        else:\n",
    "            L = max(0,-gamma)\n",
    "            H = min(self.C,self.C-gamma)\n",
    "        \n",
    "        if chi>0:\n",
    "            self.beta[i] = min(max(self.beta[i]+delta/chi,L),H)\n",
    "        elif delta>0:\n",
    "            self.beta[i] = L\n",
    "        else:\n",
    "            self.beta[i] = H\n",
    "        \n",
    "        self.beta[j] = gamma-s*self.beta[i]\n",
    "        self.fx = self.fx + ((self.beta[i]-beta_i_old)*self.y[i]*self.kernel(self.x, self.x[i].T)).reshape(-1)\\\n",
    "            + ((self.beta[j]-beta_j_old)*self.y[j]*self.kernel(self.x, self.x[j].T)).reshape(-1)\\\n",
    "            + self.b - self.b_old\n",
    "        self.b_old = self.b\n",
    "        self.b = self.b - 0.5*(self.fx[i]-self.y[i]+self.fx[j]-self.y[j])\n",
    "        \n",
    "    def update_bias_to_median(self):\n",
    "        self.b = self.b - np.median((self.fx - self.y)[self.beta > 0])\n",
    "        \n",
    "       \n",
    "    def predict(self, t):\n",
    "        return np.dot((self.beta*self.y).T, self.kernel(self.x,t.T)) + self.b\n",
    "    \n",
    "    def KKT(self):        \n",
    "        return (self.C-self.beta)*np.maximum(0, 1-self.y*self.fx)+self.beta*np.maximum(0, self.y*self.fx-1)"
   ]
  },
  {
   "cell_type": "code",
   "execution_count": 5,
   "metadata": {},
   "outputs": [
    {
     "data": {
      "image/png": "[encoded data removed]",
      "text/plain": [
       "<Figure size 432x288 with 1 Axes>"
      ]
     },
     "metadata": {},
     "output_type": "display_data"
    }
   ],
   "source": [
    "import matplotlib.pyplot as plt\n",
    "\n",
    "x = np.append(np.random.exponential(0.25, (20,2)),np.random.exponential(2, (20,2)),0)\n",
    "y = np.append(-np.ones(20),np.ones(20))\n",
    "plt.scatter(x[:20,0],x[:20,1],c='orange')\n",
    "plt.scatter(x[20:,0],x[20:,1],c='blue')\n",
    "              \n",
    "plt.show()\n"
   ]
  },
  {
   "cell_type": "code",
   "execution_count": 16,
   "metadata": {},
   "outputs": [
    {
     "name": "stdout",
     "output_type": "stream",
     "text": [
      "There are 34 support vector and 2 margin vectors\n"
     ]
    },
    {
     "data": {
      "image/png": "[encoded data removed]",
      "text/plain": [
       "<Figure size 432x288 with 1 Axes>"
      ]
     },
     "metadata": {},
     "output_type": "display_data"
    },
    {
     "name": "stdout",
     "output_type": "stream",
     "text": [
      "There are 10 support vector and 3 margin vectors\n"
     ]
    },
    {
     "data": {
      "image/png": "[encoded data removed]",
      "text/plain": [
       "<Figure size 432x288 with 1 Axes>"
      ]
     },
     "metadata": {},
     "output_type": "display_data"
    },
    {
     "name": "stdout",
     "output_type": "stream",
     "text": [
      "There are 3 support vector and 3 margin vectors\n"
     ]
    },
    {
     "data": {
      "image/png": "[encoded data removed]",
      "text/plain": [
       "<Figure size 432x288 with 1 Axes>"
      ]
     },
     "metadata": {},
     "output_type": "display_data"
    },
    {
     "data": {
      "image/png": "[encoded data removed]",
      "text/plain": [
       "<Figure size 432x288 with 1 Axes>"
      ]
     },
     "metadata": {},
     "output_type": "display_data"
    }
   ],
   "source": [
    "import random # random.sample is much faster than np.random.choice for k << n\n",
    "\n",
    "def SMO(clf):\n",
    "    for i in range(10000):\n",
    "        idx1, idx2 = random.sample(range(y.size), 2)\n",
    "        clf.OneStep(idx1, idx2)\n",
    "    clf.update_bias_to_median()\n",
    "\n",
    "clfs = []\n",
    "for c in [0.01, 1, 100]:\n",
    "    clf = Classifier(x, y, c)\n",
    "    SMO(clf)\n",
    "    sv = x[clf.beta > 0]\n",
    "    mv = x[(c > clf.beta) & (clf.beta > 0)]\n",
    "    print(\"There are {} support vector and {} margin vectors\".format(sv.shape[0],mv.shape[0]))\n",
    "    PlotContourLine(clf.predict)\n",
    "    plt.scatter(x[:20,0],x[:20,1], c='orange')\n",
    "    plt.scatter(x[20:,0],x[20:,1],c='blue')\n",
    "    plt.scatter(sv[:,0],sv[:,1], c='black', marker='x')\n",
    "    plt.scatter(mv[:,0],mv[:,1], c='white', marker='x')\n",
    "    plt.show()\n",
    "    clfs.append(clf)\n",
    "\n",
    "lls_predict = lls(x,y)\n",
    "PlotContourLine(lls_predict)\n",
    "plt.scatter(x[:20,0],x[:20,1], c='orange')\n",
    "plt.scatter(x[20:,0],x[20:,1],c='blue')\n",
    "plt.show()\n",
    "    "
   ]
  },
  {
   "cell_type": "markdown",
   "metadata": {},
   "source": [
    "For 10000 iterations the results are very unreliable. Tipically the best results are obtained for c = 1. The hyperplane computed by lls does not optimally seperate the two classes, as the variance of input points belonging to the second class is much bigger than the variance of points belonging to the first class. This pulls the seperating hyperplane more to the second class."
   ]
  },
  {
   "cell_type": "code",
   "execution_count": 20,
   "metadata": {},
   "outputs": [
    {
     "name": "stdout",
     "output_type": "stream",
     "text": [
      "The accurcy of our svm for c=0.01 is 0.115\n",
      "The accurcy of our svm for c=1 is 0.422\n",
      "The accurcy of our svm for c=100 is 0.5\n",
      "The accurcy of th lls is 0.3265\n"
     ]
    }
   ],
   "source": [
    "x_test = np.append(np.random.exponential(0.25, (1000,2)),np.random.exponential(2, (1000,2)),0)\n",
    "y_test = np.append(-np.ones(1000),np.ones(1000))\n",
    "\n",
    "for clf, c in zip(clfs, [0.01, 1, 100]):\n",
    "    m = compute_confusion_matrix(clf.predict, x_test, y_test, 2)\n",
    "    print(\"The accurcy of our svm for c={} is {}\".format(c, np.trace(m)/2000))\n",
    "m = compute_confusion_matrix(lls_predict, x_test, y_test, 2)\n",
    "print(\"The accurcy of th lls is {}\".format(np.trace(m)/2000))"
   ]
  },
  {
   "cell_type": "code",
   "execution_count": 22,
   "metadata": {},
   "outputs": [
    {
     "name": "stdout",
     "output_type": "stream",
     "text": [
      "After 106 iterations, all kkt conditions are zero.\n",
      "There are 34 support vector and 2 margin vectors\n"
     ]
    },
    {
     "data": {
      "image/png": "[encoded data removed]",
      "text/plain": [
       "<Figure size 432x288 with 1 Axes>"
      ]
     },
     "metadata": {},
     "output_type": "display_data"
    },
    {
     "name": "stdout",
     "output_type": "stream",
     "text": [
      "After 104 iterations, all kkt conditions are zero.\n",
      "There are 10 support vector and 3 margin vectors\n"
     ]
    },
    {
     "data": {
      "image/png": "[encoded data removed]",
      "text/plain": [
       "<Figure size 432x288 with 1 Axes>"
      ]
     },
     "metadata": {},
     "output_type": "display_data"
    },
    {
     "name": "stdout",
     "output_type": "stream",
     "text": [
      "After 63 iterations, all kkt conditions are zero.\n",
      "There are 3 support vector and 3 margin vectors\n"
     ]
    },
    {
     "data": {
      "image/png": "[encoded data removed]",
      "text/plain": [
       "<Figure size 432x288 with 1 Axes>"
      ]
     },
     "metadata": {},
     "output_type": "display_data"
    }
   ],
   "source": [
    "def SMO_KKT(clf):\n",
    "    for it in range(10000): \n",
    "        kkt = clf.KKT()\n",
    "        i = np.argmax(kkt)\n",
    "        if(kkt[i] == 0):\n",
    "            print(\"After {} iterations, all kkt conditions are zero.\".format(it))\n",
    "            clf.b = clf.b - np.median(np.extract(clf.beta > 0, clf.fx - clf.y))\n",
    "            return\n",
    "        mv = (clf.beta > 0) & (clf.C > clf.beta)\n",
    "        mv[i] = 0\n",
    "        if(np.sum(mv) > 0):\n",
    "            j = np.random.choice(np.arange(kkt.shape[0]), 1, p = mv/np.sum(mv))\n",
    "        else:\n",
    "            n_i = np.arange(kkt.shape[0]) != i\n",
    "            j = np.random.choice(np.arange(kkt.shape[0]), 1, p = n_i/np.sum(n_i))\n",
    "        clf.OneStep(i,j)\n",
    "    clf.b = clf.b - np.mean((clf.fx - clf.y)[clf.beta > 0])\n",
    "\n",
    "clfs = []\n",
    "for c in [0.01, 1, 100]:\n",
    "    clf = Classifier(x, y, c)\n",
    "    SMO_KKT(clf)\n",
    "    sv = x[clf.beta > 0]\n",
    "    mv = x[(c > clf.beta) & (clf.beta > 0)]\n",
    "    print(\"There are {} support vector and {} margin vectors\".format(sv.shape[0],mv.shape[0]))\n",
    "    PlotContourLine(clf.predict)\n",
    "    plt.scatter(x[:20,0],x[:20,1], c='orange')\n",
    "    plt.scatter(x[20:,0],x[20:,1],c='blue')\n",
    "    plt.scatter(sv[:,0],sv[:,1], c='black', marker='x')\n",
    "    plt.scatter(mv[:,0],mv[:,1], c='white', marker='x')\n",
    "    plt.show()\n",
    "    clfs.append(clf)"
   ]
  },
  {
   "cell_type": "markdown",
   "metadata": {},
   "source": [
    "For c=0.001 and c = 1 using the heuristic is significantly faster."
   ]
  },
  {
   "cell_type": "code",
   "execution_count": 23,
   "metadata": {},
   "outputs": [
    {
     "data": {
      "image/png": "[encoded data removed]",
      "text/plain": [
       "<Figure size 432x288 with 1 Axes>"
      ]
     },
     "metadata": {},
     "output_type": "display_data"
    },
    {
     "name": "stdout",
     "output_type": "stream",
     "text": [
      "After 2239 iterations, all kkt conditions are zero.\n"
     ]
    },
    {
     "data": {
      "image/png": "[encoded data removed]",
      "text/plain": [
       "<Figure size 432x288 with 1 Axes>"
      ]
     },
     "metadata": {},
     "output_type": "display_data"
    }
   ],
   "source": [
    "from sklearn.preprocessing import normalize\n",
    "\n",
    "b= np.random.multivariate_normal(np.zeros(2), np.eye(2), 1000) \n",
    "u = np.power(np.random.rand(1000)*4, 0.5)\n",
    "b = normalize(b) * u.reshape(u.size,1)\n",
    "norms = np.linalg.norm(b, axis = 1)\n",
    "x = np.append(b[norms < 1][:50], b[norms > 1][:50], axis = 0)\n",
    "y = np.append(-np.ones(50), np.ones(50))\n",
    "\n",
    "\n",
    "clf = Classifier(x,y,10)\n",
    "SMO_KKT(clf)\n",
    "PlotContourLine(clf.predict,0, -2, 2, -2, 2)\n",
    "plt.scatter(x[:50,0],x[:50,1],c='orange')\n",
    "plt.scatter(x[50:,0],x[50:,1],c='blue')\n",
    "plt.show()\n",
    "\n",
    "def phi(x):\n",
    "    return np.append(x, np.power(np.linalg.norm(x, axis = 1), 2).reshape(x.shape[0],1), axis = 1)\n",
    "    \n",
    "clf = Classifier(phi(x),y,10)\n",
    "SMO_KKT(clf)\n",
    "PlotContourLine(lambda x: clf.predict(phi(x)),0, -2, 2, -2, 2)\n",
    "plt.scatter(x[:50,0],x[:50,1],c='orange')\n",
    "plt.scatter(x[50:,0],x[50:,1],c='blue')\n",
    "\n",
    "plt.show()"
   ]
  },
  {
   "cell_type": "markdown",
   "metadata": {},
   "source": [
    "The SVM seperates the two classes along the third feature(i.e. the norm squared) since this\n",
    "is exactly the feature defining the two classes."
   ]
  },
  {
   "cell_type": "code",
   "execution_count": null,
   "metadata": {},
   "outputs": [],
   "source": [
    "from numpy.matlib import repmat\n",
    "\n",
    "def gaussian_kernel(x,y):\n",
    "    diff = (repmat(x,1,y.shape[0])-y.reshape(-1)).reshape(-1,2)\n",
    "    return np.exp(-np.linalg.norm(diff, axis = 1).reshape(x.shape[0],y.shape[0])/2)\n",
    "\n",
    "clf = Classifier(x,y,10, gaussian_kernel)\n",
    "SMO_KKT(clf)\n",
    "PlotContourLine(lambda x: clf.predict(x),0, -2, 2, -2, 2)\n",
    "plt.scatter(x[:50,0],x[:50,1],c='orange')\n",
    "plt.scatter(x[50:,0],x[50:,1],c='blue')\n"
   ]
  },
  {
   "cell_type": "code",
   "execution_count": 24,
   "metadata": {},
   "outputs": [
    {
     "name": "stdout",
     "output_type": "stream",
     "text": [
      "0.9376\n"
     ]
    }
   ],
   "source": [
    "#Load MNIST Data\n",
    "import os\n",
    "import gzip\n",
    "from urllib.request import urlretrieve\n",
    "\n",
    "#load SVC and GridSearchCV for crossvalidation\n",
    "from sklearn import svm\n",
    "from sklearn.model_selection import GridSearchCV\n",
    "from sklearn.metrics import confusion_matrix\n",
    "\n",
    "\n",
    "def download (filename , source ='http://yann.lecun.com/exdb/mnist/'):\n",
    "    print (\" Downloading %s\" % filename )\n",
    "    urlretrieve ( source + filename , filename )\n",
    "\n",
    "\n",
    "def load_mnist_images ( filename ):\n",
    "    if not os.path. exists ( filename ):\n",
    "        download ( filename )\n",
    "    with gzip.open(filename , 'rb') as f:\n",
    "        data = np. frombuffer (f.read () , np.uint8 , offset=16)\n",
    "    data = data. reshape (-1, 28, 28)\n",
    "    return data / np. float32 (256)\n",
    "\n",
    "def load_mnist_labels ( filename ):\n",
    "    if not os.path. exists ( filename ):\n",
    "        download ( filename )\n",
    "    with gzip.open(filename , 'rb') as f:\n",
    "        data = np. frombuffer (f.read () , np.uint8 , offset=8)\n",
    "    return data\n",
    "\n",
    "X_train = load_mnist_images ('train-images-idx3-ubyte.gz')\n",
    "y_train = load_mnist_labels ('train-labels-idx1-ubyte.gz')\n",
    "X_test = load_mnist_images ('t10k-images-idx3-ubyte.gz')\n",
    "y_test = load_mnist_labels ('t10k-labels-idx1-ubyte.gz')\n",
    "\n",
    "\n",
    "parameters = {'gamma':[.1, .01, .001], 'C':[1, 10, 100]}\n",
    "\n",
    "cv = GridSearchCV(svm.SVC(), parameters, cv = 5)\n",
    "indices = np.random.choice(np.arange(0,y_train.size), 500, False)\n",
    "cv.fit(X_train[indices].reshape(indices.size, -1), y_train[indices])\n",
    "\n",
    "indices = np.random.choice(np.arange(0,y_train.size), 2000, False)\n",
    "clf = cv.best_estimator_\n",
    "clf.fit(X_train[indices].reshape(indices.size, -1), y_train[indices])\n",
    "\n",
    "c = confusion_matrix(clf.predict(X_test.reshape(X_test.shape[0], -1)), y_test)\n",
    "\n",
    "print(c.trace()/y_test.size)\n",
    "\n"
   ]
  },
  {
   "cell_type": "code",
   "execution_count": null,
   "metadata": {},
   "outputs": [],
   "source": []
  }
 ],
 "metadata": {
  "kernelspec": {
   "display_name": "Python 3",
   "language": "python",
   "name": "python3"
  },
  "language_info": {
   "codemirror_mode": {
    "name": "ipython",
    "version": 3
   },
   "file_extension": ".py",
   "mimetype": "text/x-python",
   "name": "python",
   "nbconvert_exporter": "python",
   "pygments_lexer": "ipython3",
   "version": "3.5.2"
  }
 },
 "nbformat": 4,
 "nbformat_minor": 2
}
