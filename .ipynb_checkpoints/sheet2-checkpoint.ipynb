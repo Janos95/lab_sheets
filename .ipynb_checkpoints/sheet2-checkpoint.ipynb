{
 "cells": [
  {
   "cell_type": "code",
   "execution_count": 132,
   "metadata": {},
   "outputs": [
    {
     "name": "stdout",
     "output_type": "stream",
     "text": [
      "7\n",
      "1\n"
     ]
    }
   ],
   "source": [
    "# Testcell\n",
    "from utils import PlotContourLine\n",
    "\n",
    "def f(x):\n",
    "    if X[0] > 1:\n",
    "        return 1\n",
    "    else:\n",
    "        return -1\n",
    "\n",
    "import random\n",
    "\n",
    "\n",
    "idx1, idx2 = random.sample(range(10), 2)\n",
    "print(idx1)\n",
    "print(idx2)\n",
    "\n"
   ]
  },
  {
   "cell_type": "code",
   "execution_count": 314,
   "metadata": {},
   "outputs": [],
   "source": [
    "import numpy as np\n",
    "\n",
    "#this class wraps our classifier function f and it \n",
    "#provides a a member method to perform the OneStep function \n",
    "#on our parameters beta and b.\n",
    "class Classifier:\n",
    "    def __init__(self, x, y, C, kernel = np.dot):\n",
    "        self.x = x\n",
    "        self.y = y\n",
    "        self.C = C\n",
    "        self.kernel = kernel\n",
    "        self.beta = np.zeros(y.size)\n",
    "        self.b = .0\n",
    "        self.b_old = .0\n",
    "        self.fx = np.zeros(y.size)\n",
    "\n",
    "    def OneStep(self, i, j):\n",
    "        beta_i_old = self.beta[i]\n",
    "        beta_j_old = self.beta[j]\n",
    "        delta = self.y[i]*((self.fx[j]-self.y[j])-(self.fx[i]-self.y[i]))\n",
    "        s = self.y[i]*self.y[j]\n",
    "        chi = self.kernel(self.x[i], self.x[i].T) \\\n",
    "            +self.kernel(self.x[j], self.x[j].T) \\\n",
    "            -2*self.kernel(self.x[i], self.x[j].T)\n",
    "        gamma = s*self.beta[i]+self.beta[j]\n",
    "        \n",
    "        if s == 1:\n",
    "            L = max(0,gamma-self.C)\n",
    "            H = min(gamma, self.C)\n",
    "        else:\n",
    "            L = max(0,-gamma)\n",
    "            H = min(self.C,self.C-gamma)\n",
    "        \n",
    "        if chi>0:\n",
    "            self.beta[i] = min(max(self.beta[i]+delta/chi,L),H)\n",
    "        elif delta>0:\n",
    "            self.beta[i] = L\n",
    "        else:\n",
    "            self.beta[i] = H\n",
    "        \n",
    "        self.beta[j] = gamma-s*self.beta[i]\n",
    "        self.fx = self.fx + (self.beta[i]-beta_i_old)*self.y[i]*self.kernel(self.x, self.x[i].T) \\\n",
    "            + (self.beta[j]-beta_j_old)*self.y[j]*self.kernel(self.x, self.x[j].T) \\\n",
    "            + self.b - self.b_old\n",
    "        self.b_old = self.b\n",
    "        self.b = self.b - 0.5*(self.fx[i]-self.y[i]+self.fx[j]-self.y[j])\n",
    "       \n",
    "    def predict(self, t):\n",
    "        return np.dot((self.beta*self.y).T, self.kernel(self.x,t.T)) + self.b\n",
    "    \n",
    "    def KKT(self):\n",
    "        return (self.C-self.beta)*np.maximum(0, 1-self.y*self.fx)+self.beta*np.maximum(0, self.y*self.fx-1)"
   ]
  },
  {
   "cell_type": "code",
   "execution_count": 316,
   "metadata": {},
   "outputs": [
    {
     "data": {
      "image/png": "[encoded data removed]",
      "text/plain": [
       "<Figure size 432x288 with 1 Axes>"
      ]
     },
     "metadata": {},
     "output_type": "display_data"
    }
   ],
   "source": [
    "import matplotlib.pyplot as plt\n",
    "\n",
    "x = np.append(np.random.exponential(4, (20,2)),np.random.exponential(0.5, (20,2)),0)\n",
    "y = np.append(-np.ones(20),np.ones(20))\n",
    "plt.scatter(x[:20,0],x[:20,1],c='orange')\n",
    "plt.scatter(x[20:,0],x[20:,1],c='blue')\n",
    "              \n",
    "plt.show()\n"
   ]
  },
  {
   "cell_type": "code",
   "execution_count": 276,
   "metadata": {},
   "outputs": [],
   "source": [
    "def PlotContourLine(func, value=0, minx=0, maxx=10, miny=0, maxy=10):\n",
    "    #This plots the contourline func(x) = value\n",
    "    \n",
    "    samplenum = 1000\n",
    "    xrange = np.arange(minx, maxx, (maxx-minx)/samplenum)\n",
    "    yrange = np.arange(miny, maxy, (maxy-miny)/samplenum)\n",
    "    \n",
    "    #This generates a two-dimensional mesh\n",
    "    X, Y = np.meshgrid(xrange,yrange)\n",
    "    \n",
    "    argsForf = np.array([X.flatten(),Y.flatten()]).T\n",
    "    Z = func(argsForf)\n",
    "    Z = np.reshape(Z,X.shape)\n",
    "    \n",
    "    plt.xlim(minx, maxx)\n",
    "    plt.ylim(miny, maxy)\n",
    "    plt.xlabel(r'$x_1$')\n",
    "    plt.ylabel(r'$x_2$')\n",
    "    #plt.contour(X, Y, Z, alpha=0.5,levels=[value],linestyles='dashed',linewidths=3)\n",
    "    Z = np.where(Z > value, 1, -1)\n",
    "    plt.contourf(X, Y, Z, alpha=0.2, colors=('red', 'blue'))"
   ]
  },
  {
   "cell_type": "code",
   "execution_count": 317,
   "metadata": {},
   "outputs": [
    {
     "name": "stdout",
     "output_type": "stream",
     "text": [
      "There are 26 support vector and 2 margin vectors\n"
     ]
    },
    {
     "data": {
      "image/png": "[encoded data removed]",
      "text/plain": [
       "<Figure size 432x288 with 1 Axes>"
      ]
     },
     "metadata": {},
     "output_type": "display_data"
    },
    {
     "name": "stdout",
     "output_type": "stream",
     "text": [
      "There are 8 support vector and 3 margin vectors\n"
     ]
    },
    {
     "data": {
      "image/png": "[encoded data removed]",
      "text/plain": [
       "<Figure size 432x288 with 1 Axes>"
      ]
     },
     "metadata": {},
     "output_type": "display_data"
    },
    {
     "name": "stdout",
     "output_type": "stream",
     "text": [
      "There are 7 support vector and 6 margin vectors\n"
     ]
    },
    {
     "data": {
      "image/png": "[encoded data removed]",
      "text/plain": [
       "<Figure size 432x288 with 1 Axes>"
      ]
     },
     "metadata": {},
     "output_type": "display_data"
    }
   ],
   "source": [
    "import random # random.sample is much faster than np.random.choice for k << n\n",
    "\n",
    "def SMO(clf):\n",
    "    for i in range(10000):\n",
    "        idx1, idx2 = random.sample(range(y.size), 2)\n",
    "        clf.OneStep(idx1, idx2)\n",
    "    clf.b = clf.b - np.mean(np.extract(clf.beta > 0, clf.fx - clf.y))\n",
    "\n",
    "clfs = []\n",
    "for c in [0.01, 1, 100]:\n",
    "    clf = Classifier(x, y, c)\n",
    "    SMO(clf)\n",
    "    sv = x[np.argwhere(clf.beta > 0).reshape(-1)]\n",
    "    mv = x[np.argwhere( np.logical_and(c > clf.beta, clf.beta > 0)).reshape(-1)]\n",
    "    print(\"There are {} support vector and {} margin vectors\".format(sv.shape[0],mv.shape[0]))\n",
    "    PlotContourLine(clf.predict)\n",
    "    plt.scatter(x[:20,0],x[:20,1], c='orange')\n",
    "    plt.scatter(x[20:,0],x[20:,1],c='blue')\n",
    "    plt.scatter(sv[:,0],sv[:,1], c='black', marker='x')\n",
    "    plt.show()\n",
    "    clfs.append(clf)\n",
    "    "
   ]
  },
  {
   "cell_type": "markdown",
   "metadata": {},
   "source": [
    "For 10000 iterations the results are very unreliable."
   ]
  },
  {
   "cell_type": "code",
   "execution_count": 281,
   "metadata": {},
   "outputs": [
    {
     "name": "stdout",
     "output_type": "stream",
     "text": [
      "The accurcy of our svm for c=0.01 is 0.2145\n",
      "The accurcy of our svm for c=1 is 0.473\n",
      "The accurcy of our svm for c=100 is 0.496\n"
     ]
    }
   ],
   "source": [
    "x = np.append(np.random.exponential(4, (1000,2)),np.random.exponential(0.5, (1000,2)),0)\n",
    "y = np.append(-np.ones(1000),np.ones(1000))\n",
    "\n",
    "def compute_confusion_matrix(f, x, y, n):\n",
    "    c = np.empty((n,n))\n",
    "    y_predicted = np.rint(np.clip(f(x),0,1).astype(np.float))\n",
    "    for i in range(0, n):\n",
    "        for j in range(0, n):\n",
    "            c[i,j] = np.sum(np.logical_and(y_predicted == i, y == j))\n",
    "    return c\n",
    "\n",
    "for clf, c in zip(clfs, [0.01, 1, 100]):\n",
    "    m = compute_confusion_matrix(clf.predict, x, y, 2)\n",
    "    print(\"The accurcy of our svm for c={} is {}\".format(c, np.trace(m)/2000))\n",
    "    "
   ]
  },
  {
   "cell_type": "code",
   "execution_count": 318,
   "metadata": {},
   "outputs": [
    {
     "name": "stderr",
     "output_type": "stream",
     "text": [
      "/home/janos/.local/lib/python3.5/site-packages/ipykernel_launcher.py:9: DeprecationWarning: elementwise != comparison failed; this will raise an error in the future.\n",
      "  if __name__ == '__main__':\n",
      "/home/janos/.local/lib/python3.5/site-packages/ipykernel_launcher.py:14: DeprecationWarning: elementwise != comparison failed; this will raise an error in the future.\n",
      "  \n"
     ]
    },
    {
     "ename": "TypeError",
     "evalue": "object of type 'float' has no len()",
     "output_type": "error",
     "traceback": [
      "\u001b[0;31m---------------------------------------------------------------------------\u001b[0m",
      "\u001b[0;31mTypeError\u001b[0m                                 Traceback (most recent call last)",
      "\u001b[0;32m<ipython-input-318-59762f8c48fe>\u001b[0m in \u001b[0;36m<module>\u001b[0;34m()\u001b[0m\n\u001b[1;32m     19\u001b[0m \u001b[0;32mfor\u001b[0m \u001b[0mc\u001b[0m \u001b[0;32min\u001b[0m \u001b[0;34m[\u001b[0m\u001b[0;36m0.01\u001b[0m\u001b[0;34m,\u001b[0m \u001b[0;36m1\u001b[0m\u001b[0;34m,\u001b[0m \u001b[0;36m100\u001b[0m\u001b[0;34m]\u001b[0m\u001b[0;34m:\u001b[0m\u001b[0;34m\u001b[0m\u001b[0m\n\u001b[1;32m     20\u001b[0m     \u001b[0mclf\u001b[0m \u001b[0;34m=\u001b[0m \u001b[0mClassifier\u001b[0m\u001b[0;34m(\u001b[0m\u001b[0mx\u001b[0m\u001b[0;34m,\u001b[0m \u001b[0my\u001b[0m\u001b[0;34m,\u001b[0m \u001b[0mc\u001b[0m\u001b[0;34m)\u001b[0m\u001b[0;34m\u001b[0m\u001b[0m\n\u001b[0;32m---> 21\u001b[0;31m     \u001b[0mSMO_KKT\u001b[0m\u001b[0;34m(\u001b[0m\u001b[0mclf\u001b[0m\u001b[0;34m)\u001b[0m\u001b[0;34m\u001b[0m\u001b[0m\n\u001b[0m\u001b[1;32m     22\u001b[0m     \u001b[0msv\u001b[0m \u001b[0;34m=\u001b[0m \u001b[0mx\u001b[0m\u001b[0;34m[\u001b[0m\u001b[0mnp\u001b[0m\u001b[0;34m.\u001b[0m\u001b[0margwhere\u001b[0m\u001b[0;34m(\u001b[0m\u001b[0mclf\u001b[0m\u001b[0;34m.\u001b[0m\u001b[0mbeta\u001b[0m \u001b[0;34m>\u001b[0m \u001b[0;36m0\u001b[0m\u001b[0;34m)\u001b[0m\u001b[0;34m.\u001b[0m\u001b[0mreshape\u001b[0m\u001b[0;34m(\u001b[0m\u001b[0;34m-\u001b[0m\u001b[0;36m1\u001b[0m\u001b[0;34m)\u001b[0m\u001b[0;34m]\u001b[0m\u001b[0;34m\u001b[0m\u001b[0m\n\u001b[1;32m     23\u001b[0m     \u001b[0mmv\u001b[0m \u001b[0;34m=\u001b[0m \u001b[0mx\u001b[0m\u001b[0;34m[\u001b[0m\u001b[0mnp\u001b[0m\u001b[0;34m.\u001b[0m\u001b[0margwhere\u001b[0m\u001b[0;34m(\u001b[0m \u001b[0;34m(\u001b[0m\u001b[0mc\u001b[0m \u001b[0;34m>\u001b[0m \u001b[0mclf\u001b[0m\u001b[0;34m.\u001b[0m\u001b[0mbeta\u001b[0m\u001b[0;34m)\u001b[0m \u001b[0;34m&\u001b[0m \u001b[0;34m(\u001b[0m\u001b[0mclf\u001b[0m\u001b[0;34m.\u001b[0m\u001b[0mbeta\u001b[0m \u001b[0;34m>\u001b[0m \u001b[0;36m0\u001b[0m\u001b[0;34m)\u001b[0m\u001b[0;34m)\u001b[0m\u001b[0;34m.\u001b[0m\u001b[0mreshape\u001b[0m\u001b[0;34m(\u001b[0m\u001b[0;34m-\u001b[0m\u001b[0;36m1\u001b[0m\u001b[0;34m)\u001b[0m\u001b[0;34m]\u001b[0m\u001b[0;34m\u001b[0m\u001b[0m\n",
      "\u001b[0;32m<ipython-input-318-59762f8c48fe>\u001b[0m in \u001b[0;36mSMO_KKT\u001b[0;34m(clf)\u001b[0m\n\u001b[1;32m     12\u001b[0m         \u001b[0;32melse\u001b[0m\u001b[0;34m:\u001b[0m\u001b[0;34m\u001b[0m\u001b[0m\n\u001b[1;32m     13\u001b[0m             \u001b[0mn\u001b[0m \u001b[0;34m=\u001b[0m \u001b[0mnp\u001b[0m\u001b[0;34m.\u001b[0m\u001b[0marange\u001b[0m\u001b[0;34m(\u001b[0m\u001b[0mkkt\u001b[0m\u001b[0;34m.\u001b[0m\u001b[0mshape\u001b[0m\u001b[0;34m[\u001b[0m\u001b[0;36m0\u001b[0m\u001b[0;34m]\u001b[0m\u001b[0;34m)\u001b[0m\u001b[0;34m\u001b[0m\u001b[0m\n\u001b[0;32m---> 14\u001b[0;31m             \u001b[0mj\u001b[0m \u001b[0;34m=\u001b[0m \u001b[0mnp\u001b[0m\u001b[0;34m.\u001b[0m\u001b[0mrandom\u001b[0m\u001b[0;34m.\u001b[0m\u001b[0mchoice\u001b[0m\u001b[0;34m(\u001b[0m\u001b[0mn\u001b[0m\u001b[0;34m,\u001b[0m \u001b[0;36m1\u001b[0m\u001b[0;34m,\u001b[0m \u001b[0mp\u001b[0m \u001b[0;34m=\u001b[0m \u001b[0;34m(\u001b[0m\u001b[0mn\u001b[0m \u001b[0;34m!=\u001b[0m \u001b[0mi\u001b[0m\u001b[0;34m)\u001b[0m\u001b[0;34m/\u001b[0m\u001b[0;34m(\u001b[0m\u001b[0mn\u001b[0m\u001b[0;34m.\u001b[0m\u001b[0msize\u001b[0m\u001b[0;34m-\u001b[0m\u001b[0;36m1\u001b[0m\u001b[0;34m)\u001b[0m\u001b[0;34m)\u001b[0m\u001b[0;34m\u001b[0m\u001b[0m\n\u001b[0m\u001b[1;32m     15\u001b[0m         \u001b[0mclf\u001b[0m\u001b[0;34m.\u001b[0m\u001b[0mOneStep\u001b[0m\u001b[0;34m(\u001b[0m\u001b[0mi\u001b[0m\u001b[0;34m,\u001b[0m\u001b[0mj\u001b[0m\u001b[0;34m)\u001b[0m\u001b[0;34m\u001b[0m\u001b[0m\n\u001b[1;32m     16\u001b[0m     \u001b[0mclf\u001b[0m\u001b[0;34m.\u001b[0m\u001b[0mb\u001b[0m \u001b[0;34m=\u001b[0m \u001b[0mclf\u001b[0m\u001b[0;34m.\u001b[0m\u001b[0mb\u001b[0m \u001b[0;34m-\u001b[0m \u001b[0mnp\u001b[0m\u001b[0;34m.\u001b[0m\u001b[0mmean\u001b[0m\u001b[0;34m(\u001b[0m\u001b[0mnp\u001b[0m\u001b[0;34m.\u001b[0m\u001b[0mextract\u001b[0m\u001b[0;34m(\u001b[0m\u001b[0mclf\u001b[0m\u001b[0;34m.\u001b[0m\u001b[0mbeta\u001b[0m \u001b[0;34m>\u001b[0m \u001b[0;36m0\u001b[0m\u001b[0;34m,\u001b[0m \u001b[0mclf\u001b[0m\u001b[0;34m.\u001b[0m\u001b[0mfx\u001b[0m \u001b[0;34m-\u001b[0m \u001b[0mclf\u001b[0m\u001b[0;34m.\u001b[0m\u001b[0my\u001b[0m\u001b[0;34m)\u001b[0m\u001b[0;34m)\u001b[0m\u001b[0;34m\u001b[0m\u001b[0m\n",
      "\u001b[0;32mmtrand.pyx\u001b[0m in \u001b[0;36mmtrand.RandomState.choice\u001b[0;34m()\u001b[0m\n",
      "\u001b[0;31mTypeError\u001b[0m: object of type 'float' has no len()"
     ]
    }
   ],
   "source": [
    "def SMO_KKT(clf):\n",
    "    for i in range(10000): \n",
    "        kkt = clf.KKT()\n",
    "        positive_kkt = np.argwhere(kkt > 0)\n",
    "        if(positive_kkt.size == 0):\n",
    "            return\n",
    "        i = positive_kkt[0]\n",
    "        mv = np.argwhere((clf.beta > 0) & (clf.C > clf.beta)).reshape(-1)\n",
    "        mv_i = mv[mv != i]\n",
    "        if(mv_i.size):\n",
    "            j = np.random.choice(mv_i, 1)\n",
    "        else:\n",
    "            n = np.arange(kkt.shape[0])\n",
    "            j = np.random.choice(n, 1, p = (n != i)/(n.size-1))\n",
    "        clf.OneStep(i,j)\n",
    "    clf.b = clf.b - np.mean(np.extract(clf.beta > 0, clf.fx - clf.y))\n",
    "    \n",
    "clfs = []\n",
    "for c in [0.01, 1, 100]:\n",
    "    clf = Classifier(x, y, c)\n",
    "    SMO_KKT(clf)\n",
    "    sv = x[np.argwhere(clf.beta > 0).reshape(-1)]\n",
    "    mv = x[np.argwhere( (c > clf.beta) & (clf.beta > 0)).reshape(-1)]\n",
    "    print(\"There are {} support vector and {} margin vectors\".format(sv.shape[0],mv.shape[0]))\n",
    "    PlotContourLine(clf.predict)\n",
    "    plt.scatter(x[:20,0],x[:20,1], c='orange')\n",
    "    plt.scatter(x[20:,0],x[20:,1],c='blue')\n",
    "    plt.scatter(sv[:,0],sv[:,1], c='black', marker='x')\n",
    "    plt.show()\n",
    "    clfs.append(clf)"
   ]
  },
  {
   "cell_type": "code",
   "execution_count": null,
   "metadata": {},
   "outputs": [],
   "source": [
    "#Load MNIST Data\n",
    "import os\n",
    "import gzip\n",
    "from urllib.request import urlretrieve\n",
    "\n",
    "#load SVC and GridSearchCV for crossvalidation\n",
    "from sklearn import svm, datasets\n",
    "from sklearn.model_selection import GridSearchCV\n",
    "\n",
    "\n",
    "def download (filename , source ='http :// yann. lecun .com/exdb/ mnist /'):\n",
    "    print (\" Downloading %s\" % filename )\n",
    "    urlretrieve ( source + filename , filename )\n",
    "\n",
    "\n",
    "def load_mnist_images ( filename ):\n",
    "    if not os.path. exists ( filename ):\n",
    "        download ( filename )\n",
    "    with gzip.open(filename , ’rb ’) as f:\n",
    "        data = np. frombuffer (f.read () , np.uint8 , offset=16)\n",
    "    data = data. reshape (-1, 28, 28)\n",
    "    return data / np. float32 (256)\n",
    "\n",
    "def load_mnist_labels ( filename ):\n",
    "    if not os.path. exists ( filename ):\n",
    "        download ( filename )\n",
    "    with gzip.open(filename , ’rb ’) as f:\n",
    "    data = np. frombuffer (f.read () , np.uint8 , offset=8)\n",
    "    return data\n",
    "\n",
    "X_train = load_mnist_images ('train -images -idx3 - ubyte .gz')\n",
    "y_train = load_mnist_labels ('train -labels -idx1 - ubyte .gz')\n",
    "X_test = load_mnist_images ('t10k -images -idx3 - ubyte .gz')\n",
    "y_test = load_mnist_labels ('t10k -labels -idx1 - ubyte .gz')\n",
    "\n",
    "\n",
    "\n",
    "parameters = {'gamma':[.1, .01, .001], 'C':[1, 10, 100]}\n",
    "\n",
    "cv = GridSearchCV(svm.SVC(), parameters, cv = 5)\n",
    "indices = np.random.choice(np.arange(0,y.size-1), 500, False)\n",
    "print(indices)\n",
    "cv.fit(X_train[indices], Y_train[indices])\n",
    "\n",
    "indices = np.random.choice(np.arange(0,y.size-1), 2000, False)\n",
    "clf = svm.SVC(cv.best_param_)\n",
    "\n",
    "\n",
    "\n"
   ]
  }
 ],
 "metadata": {
  "kernelspec": {
   "display_name": "Python 3",
   "language": "python",
   "name": "python3"
  },
  "language_info": {
   "codemirror_mode": {
    "name": "ipython",
    "version": 3
   },
   "file_extension": ".py",
   "mimetype": "text/x-python",
   "name": "python",
   "nbconvert_exporter": "python",
   "pygments_lexer": "ipython3",
   "version": "3.5.2"
  }
 },
 "nbformat": 4,
 "nbformat_minor": 2
}
