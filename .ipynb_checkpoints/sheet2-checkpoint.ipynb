{
 "cells": [
  {
   "cell_type": "code",
   "execution_count": null,
   "metadata": {},
   "outputs": [],
   "source": [
    "import numpy as np\n",
    "import matplotlib.pyplot as plt\n",
    "\n",
    "x = np.append(np.random.exponential(4, (10,2)),np.random.exponential(0.5, (10,2))\n",
    "\n",
    "plt.scatter(x[:10,0],x[:10,1], c='orange')\n",
    "plt.scatter(x[10:,0],x[10:,1],c='blue')\n",
    "              \n",
    "plt.show()"
   ]
  },
  {
   "cell_type": "code",
   "execution_count": null,
   "metadata": {},
   "outputs": [],
   "source": [
    "\n",
    "def SMO(x, y, num_iter, C):\n",
    "    beta = np.zero(x.shape[0]+1)\n",
    "    fx = np.zeros(x.shape[1])\n",
    "    for i in range(num_iter):\n",
    "        indices = np.random.choise(np.arange(1,beta.size), 2, False)\n",
    "        (beta, fx) = OneStep(x, fx, y, beta, C, indices)\n",
    "    \n",
    "        "
   ]
  },
  {
   "cell_type": "code",
   "execution_count": null,
   "metadata": {},
   "outputs": [],
   "source": []
  }
 ],
 "metadata": {
  "kernelspec": {
   "display_name": "Python 3",
   "language": "python",
   "name": "python3"
  },
  "language_info": {
   "codemirror_mode": {
    "name": "ipython",
    "version": 3
   },
   "file_extension": ".py",
   "mimetype": "text/x-python",
   "name": "python",
   "nbconvert_exporter": "python",
   "pygments_lexer": "ipython3",
   "version": "3.5.2"
  }
 },
 "nbformat": 4,
 "nbformat_minor": 2
}
