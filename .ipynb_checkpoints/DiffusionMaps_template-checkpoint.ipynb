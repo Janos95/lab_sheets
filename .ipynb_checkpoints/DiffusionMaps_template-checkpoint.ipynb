{
 "cells": [
  {
   "cell_type": "markdown",
   "metadata": {},
   "source": [
    "# Diffusion maps for single-cell data analysis"
   ]
  },
  {
   "cell_type": "markdown",
   "metadata": {},
   "source": [
    "By means of this notebook, you can solve all the programming tasks of chapter 4. You can download all the needed files (data1.mat and guo.xlsx) from the homepage. "
   ]
  },
  {
   "cell_type": "code",
   "execution_count": null,
   "metadata": {
    "collapsed": true
   },
   "outputs": [],
   "source": [
    "%matplotlib inline\n",
    "import numpy as np\n",
    "from scipy.io import loadmat \n",
    "from pandas import read_excel\n",
    "from scipy.spatial.distance import pdist\n",
    "import np.linalg as LA\n",
    "\n",
    "#add here your required imports"
   ]
  },
  {
   "cell_type": "code",
   "execution_count": null,
   "metadata": {},
   "outputs": [],
   "source": [
    "#test cell\n",
    "\n"
   ]
  },
  {
   "cell_type": "markdown",
   "metadata": {},
   "source": [
    "## Introduction\n",
    "#### Task 1: Implement the diffusion maps algorithm.\n",
    "It is recommended to solve this task by defining a class for diffusion maps and implement a fit_transform function, which returns the embedding of a given data set. This standardizes the code when comparing diffusion maps with other dimensionality reduction methods."
   ]
  },
  {
   "cell_type": "code",
   "execution_count": null,
   "metadata": {
    "collapsed": true
   },
   "outputs": [],
   "source": [
    "# your code goes here"
   ]
  },
  {
   "cell_type": "code",
   "execution_count": 4,
   "metadata": {},
   "outputs": [],
   "source": [
    "class DiffMap():\n",
    "    \"\"\"\n",
    "    Class Diffusion Maps\n",
    "    \n",
    "    Parameters\n",
    "    ----------\n",
    "    n_comp: int, optional, default = 2\n",
    "        number of dimensions in which the data will be embedded\n",
    "    sigma: optional, default = 10\n",
    "        bandwidth of the Gaussian kernel\n",
    "    alpha: optional, default = 1\n",
    "        the density rescaling parameter\n",
    "    \"\"\"\n",
    "    \n",
    "    def __init__(self, n_components = 2, sigma = 10, alpha = 1):\n",
    "        self.ndim = n_components\n",
    "        self.sigma = sigma\n",
    "        self.alpha = alpha\n",
    "        \n",
    "    def fit_transform(self, X):\n",
    "        \"\"\"\n",
    "        Computes the embedding\n",
    "        \n",
    "        Parameters\n",
    "        ----------\n",
    "        X: array\n",
    "           input data\n",
    "           \n",
    "        Returns\n",
    "        -------\n",
    "        evecs: array [n_cells, n_comp]\n",
    "            array of n_comp eigenvectors or diffusion coordinates\n",
    "        \"\"\"\n",
    "        # your code goes here\n",
    "        K = np.exp(-cdist(X,X, 'sqeuclidean')/(2*self.sigma*self.sigma))\n",
    "        Q_minusalpha = np.diag(np.pow(np.sum(K, axis=1),-self.alpha))\n",
    "        K_alpha = Q_minusalpha @ K @ Q_minusalpha \n",
    "        np.fill_diagonal(K_alpha, 0)\n",
    "        D_alpha = np.diag(np.sum(K_alpha,axis=1))\n",
    "        P = LA.inverse(D_alpha) @ K_alpha\n",
    "        evals, evecs = LA.eig(P)\n",
    "        return evals[1:self.n_components+1] @ evecs[1:self.n_components+1,:]\n",
    "        \n",
    "        "
   ]
  },
  {
   "cell_type": "markdown",
   "metadata": {},
   "source": [
    "#### Task 2: Perform a diffusion map analysis on the Buettner data set. "
   ]
  },
  {
   "cell_type": "code",
   "execution_count": 6,
   "metadata": {},
   "outputs": [],
   "source": [
    "def load_buettner_data(): \n",
    "    #load buettner data\n",
    "    file = loadmat('data//data1.mat')\n",
    "    data = file.get('in_X')\n",
    "    data = np.array(data)\n",
    "\n",
    "    #group assignments\n",
    "    labels = file.get('true_labs')\n",
    "    labels = labels[:,0] -1\n",
    "\n",
    "    #group names\n",
    "    stage_names = ['1', '2', '3']\n",
    "\n",
    "    return data, stage_names, labels"
   ]
  },
  {
   "cell_type": "code",
   "execution_count": null,
   "metadata": {
    "collapsed": true
   },
   "outputs": [],
   "source": [
    "# your code goes here\n",
    "data, stage_names, labes = load_buettner_data()\n",
    "clf = DiffMap()"
   ]
  },
  {
   "cell_type": "code",
   "execution_count": null,
   "metadata": {
    "collapsed": true
   },
   "outputs": [],
   "source": [
    "# your code goes here"
   ]
  },
  {
   "cell_type": "markdown",
   "metadata": {},
   "source": [
    "#### Task 3: Perform a PCA analysis of the Buettner data set."
   ]
  },
  {
   "cell_type": "code",
   "execution_count": null,
   "metadata": {
    "collapsed": true
   },
   "outputs": [],
   "source": [
    "# your code goes here"
   ]
  },
  {
   "cell_type": "markdown",
   "metadata": {},
   "source": [
    "## Single-cell data analysis\n",
    "\n",
    "In the following, we will apply diffusion maps to the Guo data. In the file, you will find some necessary information:\n",
    "\n",
    "1. the input data, which is a matrix with a certain number of cells as row number and a certain number of genes as column number,\n",
    "2. the names of the measured genes and\n",
    "3. an assignment of each cell to an embryonic stage. These assignments have to be converted into numerical labels to use them for the scatter plots.\n",
    "\n",
    "### Pre-processing\n",
    "#### Task 4: Pre-process the Guo data.\n",
    "\n",
    "Take a look at the file guo.xlsx. The naming annotation in the first column refers to the embryonic stage, embryo number, and individual cell number, thus 64C 2.7 refers to the 7th cell harvested from the 2nd embryo collected from the 64-cell stage. In the first row, you will find the names of the measured genes."
   ]
  },
  {
   "cell_type": "code",
   "execution_count": null,
   "metadata": {
    "collapsed": true
   },
   "outputs": [],
   "source": [
    "def load_guo_data():\n",
    "    #load guo data\n",
    "    data_frame = read_excel('data//guo.xlsx', sheet_name = 'Sheet1')\n",
    "\n",
    "    #data\n",
    "    adata = data_frame.as_matrix()\n",
    "    data = adata[:,1:]\n",
    "    embryonic_stages = adata[:,0]\n",
    "\n",
    "    #genes\n",
    "    genes_tmp = data_frame.axes[1][1:]\n",
    "    genes_names = [genes_tmp[k] for k in range(genes_tmp.size)]\n",
    "\n",
    "    # your code goes here\n",
    "\n",
    "    #stage_names and creating labels\n",
    "    stage_names = ['2C', '4C', '8C', '16C', '32C', '64C']\n",
    "\n",
    "    labels = np.array([next(np.where([name.startswith(sname) for name in stage_names])[0][0] \n",
    "        for sname in stage_names if ename.startswith(sname)) for ename in embryonic_stages])\n",
    "    \n",
    "    return data, stage_names,labels"
   ]
  },
  {
   "cell_type": "markdown",
   "metadata": {},
   "source": [
    "#### Task 5: Perform a diffusion map analysis of the pre-processed Guo data."
   ]
  },
  {
   "cell_type": "code",
   "execution_count": null,
   "metadata": {
    "collapsed": true
   },
   "outputs": [],
   "source": [
    "# your code goes here"
   ]
  },
  {
   "cell_type": "code",
   "execution_count": null,
   "metadata": {
    "collapsed": true
   },
   "outputs": [],
   "source": [
    "# your code goes here"
   ]
  },
  {
   "cell_type": "markdown",
   "metadata": {},
   "source": [
    "#### Task 6: Comparison with the un-pre-processed data."
   ]
  },
  {
   "cell_type": "code",
   "execution_count": null,
   "metadata": {
    "collapsed": true
   },
   "outputs": [],
   "source": [
    "# your code goes here"
   ]
  },
  {
   "cell_type": "markdown",
   "metadata": {},
   "source": [
    "### Comparison with other dimensionality reduction methods\n",
    "\n",
    "#### Task 7: Compare diffusion maps with two other methods."
   ]
  },
  {
   "cell_type": "code",
   "execution_count": null,
   "metadata": {
    "collapsed": true
   },
   "outputs": [],
   "source": [
    "# your code goes here"
   ]
  },
  {
   "cell_type": "code",
   "execution_count": null,
   "metadata": {
    "collapsed": true
   },
   "outputs": [],
   "source": [
    "# your code goes here"
   ]
  },
  {
   "cell_type": "markdown",
   "metadata": {},
   "source": [
    "### Parameter selection\n",
    "\n",
    "#### Task 8: Bandwidth comparison."
   ]
  },
  {
   "cell_type": "code",
   "execution_count": null,
   "metadata": {
    "collapsed": true
   },
   "outputs": [],
   "source": [
    "# your code goes here"
   ]
  },
  {
   "cell_type": "markdown",
   "metadata": {},
   "source": [
    "#### Task 9: Implement the rule for $\\sigma$ and plot the embedding with the $\\sigma$ chosen by this rule."
   ]
  },
  {
   "cell_type": "code",
   "execution_count": null,
   "metadata": {
    "collapsed": true
   },
   "outputs": [],
   "source": [
    "# your code goes here"
   ]
  },
  {
   "cell_type": "code",
   "execution_count": null,
   "metadata": {
    "collapsed": true
   },
   "outputs": [],
   "source": [
    "# your code goes here"
   ]
  },
  {
   "cell_type": "markdown",
   "metadata": {},
   "source": [
    "### Cell group detection\n",
    "\n",
    "Now, we want to apply spectral clustering to detect cell groups in the single-cell data.\n",
    "\n",
    "#### Task 10: Implement the spectral clustering algorithm using k-means with $\\Lambda$ as input."
   ]
  },
  {
   "cell_type": "code",
   "execution_count": null,
   "metadata": {
    "collapsed": true
   },
   "outputs": [],
   "source": [
    "# your code goes here"
   ]
  },
  {
   "cell_type": "markdown",
   "metadata": {},
   "source": [
    "#### Task 11: Plot the first 20 eigenvalues of transition matrix $P$ for the Guo data and identify $\\Lambda$."
   ]
  },
  {
   "cell_type": "code",
   "execution_count": null,
   "metadata": {
    "collapsed": true
   },
   "outputs": [],
   "source": [
    "# your code goes here"
   ]
  },
  {
   "cell_type": "markdown",
   "metadata": {},
   "source": [
    "#### Task 12: Perform the spectral clustering algorithm for the Guo data."
   ]
  },
  {
   "cell_type": "code",
   "execution_count": null,
   "metadata": {
    "collapsed": true
   },
   "outputs": [],
   "source": [
    "# your code goes here"
   ]
  }
 ],
 "metadata": {
  "kernelspec": {
   "display_name": "Python 3",
   "language": "python",
   "name": "python3"
  },
  "language_info": {
   "codemirror_mode": {
    "name": "ipython",
    "version": 3
   },
   "file_extension": ".py",
   "mimetype": "text/x-python",
   "name": "python",
   "nbconvert_exporter": "python",
   "pygments_lexer": "ipython3",
   "version": "3.5.2"
  }
 },
 "nbformat": 4,
 "nbformat_minor": 2
}
