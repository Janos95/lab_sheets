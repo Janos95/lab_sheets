{
 "cells": [
  {
   "cell_type": "code",
   "execution_count": null,
   "metadata": {},
   "outputs": [],
   "source": [
    "import numpy as np\n",
    "import keras\n",
    "import keras.layers as layers\n",
    "from keras import backend as K\n",
    "import matplotlib.pyplot as plt"
   ]
  },
  {
   "cell_type": "markdown",
   "metadata": {},
   "source": [
    "# Template for Keras tasks of sheet 5"
   ]
  },
  {
   "cell_type": "code",
   "execution_count": null,
   "metadata": {},
   "outputs": [],
   "source": [
    "# Load MNIST data\n",
    "(X_train, y_train), (X_test, y_test) = keras.datasets.mnist.load_data()\n",
    "img_rows, img_cols = 28, 28\n",
    "\n",
    "# Normalize it\n",
    "X_train = X_train.astype('float32') / 255\n",
    "X_test = X_test.astype('float32') / 255\n",
    "# Store it in the correct format for Keras\n",
    "# The image data has a single channel (grayscale values)\n",
    "if K.image_data_format() == 'channels_first':\n",
    "    X_train = X_train.reshape(X_train.shape[0], 1, img_rows, img_cols)\n",
    "    X_test = X_test.reshape(X_test.shape[0], 1, img_rows, img_cols)\n",
    "    input_shape = (1, img_rows, img_cols)\n",
    "else:\n",
    "    X_train = X_train.reshape(X_train.shape[0], img_rows, img_cols, 1)\n",
    "    X_test = X_test.reshape(X_test.shape[0], img_rows, img_cols, 1)\n",
    "    input_shape = (img_rows, img_cols, 1)\n",
    "# Store the labels in the correct format for Keras\n",
    "Y_train = keras.utils.np_utils.to_categorical(y_train, 10)\n",
    "Y_test = keras.utils.np_utils.to_categorical(y_test, 10)"
   ]
  },
  {
   "cell_type": "markdown",
   "metadata": {},
   "source": [
    "To use `X_train` for fully-connected inputs, reshape it. Use the `input_shape` variable in the first layer of your networks."
   ]
  },
  {
   "cell_type": "code",
   "execution_count": null,
   "metadata": {},
   "outputs": [],
   "source": [
    "def plot_history(history):\n",
    "    \"\"\"Create a plot showing the training history of `model.fit`.\n",
    "    \n",
    "    Example:\n",
    "        history = model.fit(...)\n",
    "        plot_history(history)\n",
    "    \"\"\"\n",
    "    x = range(history.params['epochs'])\n",
    "    acc, val_acc = history.history['acc'], history.history.get('val_acc')\n",
    "    f, axarr = plt.subplots(2, sharex=True)\n",
    "    axarr[0].set_title('accuracy')\n",
    "    axarr[0].plot(x, acc, label='train')\n",
    "    if val_acc:\n",
    "        axarr[0].plot(x, val_acc, label='validation')\n",
    "    axarr[0].legend()\n",
    "    \n",
    "    loss, val_loss = history.history['loss'], history.history.get('val_loss')\n",
    "    axarr[1].set_title('loss')\n",
    "    axarr[1].plot(x, loss, label='train')\n",
    "    if val_loss:\n",
    "        axarr[1].plot(x, val_loss, label='validation')\n",
    "    axarr[1].legend()"
   ]
  },
  {
   "cell_type": "markdown",
   "metadata": {},
   "source": [
    "## Pedestrian Bonus Task"
   ]
  },
  {
   "cell_type": "code",
   "execution_count": null,
   "metadata": {},
   "outputs": [],
   "source": [
    "from sklearn.svm import LinearSVC\n",
    "import scipy.io\n",
    "from sklearn.preprocessing import MinMaxScaler\n",
    "from sklearn.decomposition import PCA"
   ]
  },
  {
   "cell_type": "code",
   "execution_count": null,
   "metadata": {},
   "outputs": [],
   "source": [
    "ped_data = scipy.io.loadmat(\"data/pca_ped_25x50.mat\")\n",
    "ped_images = ped_data['ped_train_int_25x50'][:,1:]\n",
    "garb_images = ped_data['garb_train_int_25x50'][:,1:]\n",
    "ped_test_images = ped_data['ped_test_int_25x50'][:,1:]\n",
    "garb_test_images = ped_data['garb_test_int_25x50'][:,1:]\n",
    "del ped_data\n",
    "\n",
    "\n",
    "min_max = MinMaxScaler()\n",
    "min_max.fit(np.vstack((ped_images, garb_images)))\n",
    "\n",
    "ped_images = min_max.transform(ped_images)\n",
    "garb_images = min_max.transform(garb_images)\n",
    "y_train = np.concatenate((np.ones(len(ped_images)), np.zeros(len(garb_images))))\n",
    "\n",
    "ped_test_images = min_max.transform(ped_test_images)\n",
    "garb_test_images = min_max.transform(garb_test_images)\n",
    "y_test = np.concatenate((np.ones(len(ped_test_images)), np.zeros(len(garb_test_images))))"
   ]
  },
  {
   "cell_type": "code",
   "execution_count": null,
   "metadata": {},
   "outputs": [],
   "source": [
    "img_rows, img_cols = 25, 50\n",
    "X_train = np.vstack((ped_images, garb_images)).astype('float32')\n",
    "X_test = np.vstack((ped_test_images, garb_test_images)).astype('float32')\n",
    "if K.image_data_format() == 'channels_first':\n",
    "    X_train = X_train.reshape(X_train.shape[0], 1, img_rows, img_cols)\n",
    "    X_test = X_test.reshape(X_test.shape[0], 1, img_rows, img_cols)\n",
    "    input_shape = (1, img_rows, img_cols)\n",
    "else:\n",
    "    X_train = X_train.reshape(X_train.shape[0], img_rows, img_cols, 1)\n",
    "    X_test = X_test.reshape(X_test.shape[0], img_rows, img_cols, 1)\n",
    "    input_shape = (img_rows, img_cols, 1)\n",
    "Y_train = keras.utils.np_utils.to_categorical(y_train,2)\n",
    "Y_test = keras.utils.np_utils.to_categorical(y_test, 2)"
   ]
  }
 ],
 "metadata": {
  "kernelspec": {
   "display_name": "Python 3",
   "language": "python",
   "name": "python3"
  },
  "language_info": {
   "codemirror_mode": {
    "name": "ipython",
    "version": 3
   },
   "file_extension": ".py",
   "mimetype": "text/x-python",
   "name": "python",
   "nbconvert_exporter": "python",
   "pygments_lexer": "ipython3",
   "version": "3.5.2"
  }
 },
 "nbformat": 4,
 "nbformat_minor": 2
}
