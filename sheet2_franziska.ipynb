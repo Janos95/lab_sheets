{
 "cells": [
  {
   "cell_type": "code",
   "execution_count": 10,
   "metadata": {},
   "outputs": [],
   "source": [
    "import numpy as np\n",
    "import random\n",
    "import matplotlib.pyplot as plt"
   ]
  },
  {
   "cell_type": "code",
   "execution_count": 36,
   "metadata": {},
   "outputs": [],
   "source": [
    "# Aufgabe 2.1\n",
    "\n",
    "# gib in die Funktionen die Spaltenvektoren beta und y rein und\n",
    "# die Matrix x mit den Datenvektoren in den Zeilen\n",
    "# und input als Zeilenvektor\n",
    "\n",
    "\n",
    "def f(input, beta, x, y, b):\n",
    "    summe = 0\n",
    "    for i in range(0, x[:,0].size):\n",
    "        summe = summe + (beta[i]*y[i]*np.dot(input,x[i,:]))\n",
    "    return summe + b\n",
    "\n",
    "\n",
    "#OneStep überschreibt den Vektor beta!!\n",
    "\n",
    "def OneStep(i, j, beta, x, y, C, b):\n",
    "    #betaiOld = beta[i-1]\n",
    "    #betajOld = beta[j-1]\n",
    "    delta = y[i-1]*((f(x[j-1,:], beta, x, y, b) - y[j-1])-(f(x[i-1,:], beta, x, y, b) - y[i-1]))\n",
    "    s = y[i-1]*y[j-1]\n",
    "    chi = np.dot(x[i-1,:],x[i-1,:]) + np.dot(x[j-1,:],x[j-1,:]) - 2*np.dot(x[i-1,:],x[j-1,:])\n",
    "    gamma = s*beta[i-1] + beta[j-1]\n",
    "                         \n",
    "    if s == 1:\n",
    "        L = max(0, gamma - C)\n",
    "        H = min(C, C - gamma)\n",
    "    else:\n",
    "        L = max(0, -gamma)\n",
    "        H = min(C, C - gamma)\n",
    "                         \n",
    "    if chi > 0:\n",
    "        beta[i-1] = min(max(beta[i-1]+(delta/chi),L),H)\n",
    "    elif delta > 0:\n",
    "        beta[i-1] = L\n",
    "    else:\n",
    "        beta[i-1] = H\n",
    "    \n",
    "    beta[j-1] = gamma - s*beta[i-1]\n",
    "    b = b - (1/2) *(f(x[i-1,:], beta, x, y, b) - y[i-1] + f(x[j-1,:], beta, x, y, b) - y[j-1])\n",
    "\n",
    "\n",
    "\n"
   ]
  },
  {
   "cell_type": "code",
   "execution_count": 37,
   "metadata": {},
   "outputs": [],
   "source": [
    "# Aufgabe 2.2\n",
    "\n",
    "#in data stehen die zweidimensionalen x Werte und die y Labels\n",
    "x1 = np.array([np.random.exponential(4,20), np.random.exponential(4,20)]).transpose()\n",
    "x2 = np.array([np.random.exponential(0.5,20),np.random.exponential(0.5,20)]).transpose()\n",
    "Eins = np.array([np.ones(20)]).transpose()\n",
    "MinusEins = -1*Eins\n",
    "label_x1 = np.concatenate((x1.transpose(), MinusEins.transpose()))\n",
    "label_x2 = np.concatenate((x2.transpose(), Eins.transpose()))\n",
    "\n",
    "data = np.concatenate((label_x1.transpose(), label_x2.transpose()))\n",
    "\n",
    "#print(data)\n"
   ]
  },
  {
   "cell_type": "code",
   "execution_count": 38,
   "metadata": {},
   "outputs": [],
   "source": [
    "# Aufgabe 2.3\n",
    "\n",
    "def SMO(iterations, data, C):\n",
    "    beta = np.zeros(data[:,2].size)\n",
    "    b = 0\n",
    "    k = 0\n",
    "    \n",
    "    while k < iterations:\n",
    "        i = random.randint(1,data[:,2].size)\n",
    "        j = random.randint(1,data[:,2].size)\n",
    "        if i!=j:\n",
    "            OneStep(i, j, beta, data[:,0:2], data[:,2], C, b)\n",
    "        k = k + 1\n",
    "        \n",
    "    l = 0\n",
    "    diff = 0\n",
    "    \n",
    "    while beta[l] <= 0 and l < beta.size-1:\n",
    "        l = l+1\n",
    "    diff = f(data[l,0:2], beta, data[:,0:2], data[:,2], b) - data[l,2]\n",
    "    \n",
    "    for m in range(l+1, data[:,2].size):\n",
    "        if beta[m] > 0:\n",
    "            diff = np.append(diff, f(data[m,0:2], beta, data[:,0:2], data[:,2], b) - data[m,2])\n",
    "    med = np.median(diff)\n",
    "    b = b - med\n",
    "    return np.append(b,beta)\n",
    "    \n",
    "\n"
   ]
  },
  {
   "cell_type": "code",
   "execution_count": 41,
   "metadata": {},
   "outputs": [],
   "source": [
    "# Aufgabe 2.3 (b)\n",
    "iterations = 10000\n",
    "C01 = 0.01\n",
    "C1 = 1\n",
    "C100 = 100\n",
    "\n",
    "BBeta01 = SMO(iterations, data, C01)\n",
    "#print(BBeta01)\n",
    "#BBeta1 = SMO(iterations, data, C1)\n",
    "#BBeta100 = SMO(iterations, data, C100)"
   ]
  },
  {
   "cell_type": "code",
   "execution_count": 42,
   "metadata": {},
   "outputs": [
    {
     "data": {
      "image/png": "[encoded data removed]",
      "text/plain": [
       "<Figure size 432x288 with 1 Axes>"
      ]
     },
     "metadata": {},
     "output_type": "display_data"
    }
   ],
   "source": [
    "#Aufgabe 2.3 (b) plot 1\n",
    "\n",
    "plt.scatter(data[0:20,0], data[0:20,1],c='red')\n",
    "plt.scatter(data[20:40,0], data[20:40,1],c='blue')\n",
    "\n",
    "def PlotContourLine(BBeta, func, value):\n",
    "    samplenum = 1000\n",
    "    minx = 0\n",
    "    maxx = 10\n",
    "    miny = 0\n",
    "    maxy = 10\n",
    "    xrange = np.arange(minx, maxx, (maxx-minx)/samplenum)\n",
    "    yrange = np.arange(miny, maxy, (maxy-miny)/samplenum)\n",
    "    X, Y = np.meshgrid(xrange,yrange)\n",
    "    t = np.array([X.flatten(), Y.flatten()]).transpose()\n",
    "    Z = func(t, BBeta[1:BBeta.size], data[:,0:2], data[:,2], BBeta[0])\n",
    "    Z = np.reshape(Z,X.shape)\n",
    "    plt.xlim(minx, maxx)\n",
    "    plt.ylim(miny, maxy)\n",
    "    plt.xlabel(r'$x_1$')\n",
    "    plt.ylabel(r'$x_2$')\n",
    "    Z = np.where(Z > value, -1, 1)\n",
    "    plt.contourf(X, Y, Z, alpha=0.3)\n",
    "\n",
    "PlotContourLine(BBeta01, f, 0)\n"
   ]
  },
  {
   "cell_type": "code",
   "execution_count": 30,
   "metadata": {},
   "outputs": [
    {
     "data": {
      "image/png": "[encoded data removed]",
      "text/plain": [
       "<Figure size 432x288 with 1 Axes>"
      ]
     },
     "metadata": {},
     "output_type": "display_data"
    }
   ],
   "source": [
    "#Aufgabe 2.3 (b) plot 2\n",
    "plt.scatter(data[0:20,0], data[0:20,1],c='red')\n",
    "plt.scatter(data[20:40,0], data[20:40,1],c='blue')\n",
    "PlotContourLine(BBeta1, f, 0)"
   ]
  },
  {
   "cell_type": "code",
   "execution_count": 20,
   "metadata": {},
   "outputs": [
    {
     "data": {
      "image/png": "[encoded data removed]",
      "text/plain": [
       "<Figure size 432x288 with 1 Axes>"
      ]
     },
     "metadata": {},
     "output_type": "display_data"
    }
   ],
   "source": [
    "#Aufgabe 2.3 (b) plot 3\n",
    "plt.scatter(data[0:20,0], data[0:20,1],c='red')\n",
    "plt.scatter(data[20:40,0], data[20:40,1],c='blue')\n",
    "PlotContourLine(BBeta100, f, 0)"
   ]
  },
  {
   "cell_type": "code",
   "execution_count": null,
   "metadata": {},
   "outputs": [],
   "source": [
    "def LLS(X,y):\n",
    "    xTx = np.dot(X.transpose(),X)\n",
    "    xTy = np.dot(X.transpose(),y.transpose())\n",
    "    return np.linalg.solve(xTx, xTy)\n",
    "\n",
    "BBetaLLS = LLS(data[:,0:2],data[:,2])\n",
    "PlotContourLine(BBetaLLS, f, 0)"
   ]
  },
  {
   "cell_type": "code",
   "execution_count": null,
   "metadata": {},
   "outputs": [],
   "source": []
  },
  {
   "cell_type": "code",
   "execution_count": null,
   "metadata": {},
   "outputs": [],
   "source": []
  }
 ],
 "metadata": {
  "kernelspec": {
   "display_name": "Python 3",
   "language": "python",
   "name": "python3"
  },
  "language_info": {
   "codemirror_mode": {
    "name": "ipython",
    "version": 3
   },
   "file_extension": ".py",
   "mimetype": "text/x-python",
   "name": "python",
   "nbconvert_exporter": "python",
   "pygments_lexer": "ipython3",
   "version": "3.5.2"
  }
 },
 "nbformat": 4,
 "nbformat_minor": 2
}
