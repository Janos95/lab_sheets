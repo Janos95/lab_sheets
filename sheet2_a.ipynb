{
 "cells": [
  {
   "cell_type": "code",
   "execution_count": 18,
   "metadata": {},
   "outputs": [
    {
     "name": "stdout",
     "output_type": "stream",
     "text": [
      "[1 8 3]\n",
      "[ 6.89157929  3.97291194  1.86933348  2.49578467 12.540049    9.21061792\n",
      "  3.25183378 11.40364988  1.87251194  0.47048124  6.78471177  1.48547021\n",
      "  0.77980848  1.70530711  3.93658317 12.91194614  8.36956811  4.69669012\n",
      "  4.50198237  0.04256438  0.80455765  0.18480867  0.22663796  0.34090565\n",
      "  1.00298651  0.30689907  1.26465817  0.05582667  0.67974575  0.16741849\n",
      "  0.50507813  1.04114811  0.13364835  0.11449898  1.59673565  0.52948034\n",
      "  0.02684264  1.05191965  2.16751894  0.15426682]\n"
     ]
    }
   ],
   "source": [
    "# Testcell\n",
    "import numpy as np\n",
    "x=np.array([1,4,1])\n",
    "y=np.array([1,2,3])\n",
    "z2=x*y\n",
    "print(z2)\n",
    "z=x@y\n",
    "max(3,4)\n",
    "print(np.append(np.random.exponential(4, (10,2)),np.random.exponential(0.5, (10,2))))\n",
    "\n"
   ]
  },
  {
   "cell_type": "code",
   "execution_count": 32,
   "metadata": {},
   "outputs": [],
   "source": [
    "import numpy as np\n",
    "\n",
    "#f = lambda t: np.sum(b[1:]*y*(x*t))+b[0]\n",
    "\n",
    "def OneStep(x, fx, y, b, C, i, j):\n",
    "    b_iold = b[i]\n",
    "    b_jold = b[j]\n",
    "    d = y[i]*(fx[j]-y[j]-fx[i]+y[i])\n",
    "    s = y[i]*y[j]\n",
    "    chi = x[i]@x[i]+x[j]@x[j]-2*x[i]@x[j]\n",
    "    gamma = s*b[i]+b[j]\n",
    "    if s == 1:\n",
    "        L = max(0,gamma-C)\n",
    "        H = min(gamma, C)\n",
    "    else:\n",
    "        L = max(0,-gamma)\n",
    "        H = min(C,C-gamma)\n",
    "        \n",
    "    if chi>0:\n",
    "        b[i] = min(max(b[i]+d/chi,L),H)\n",
    "    else:\n",
    "        if d>0: b[i] = L\n",
    "        else: b[i] = H\n",
    "    b[j] = gamma-s*b[i]\n",
    "    fx = fx + (b[i]-b_iold)*y[i]*(x@x[i]) + (b[j]-b_jold)*y[j]*(x@x[j])\n",
    "    b[-1] = b[-1] + (fx[j]-y[j]-fx[i]+y[i])/2\n",
    "    return(b, fx)"
   ]
  },
  {
   "cell_type": "code",
   "execution_count": 36,
   "metadata": {},
   "outputs": [
    {
     "name": "stdout",
     "output_type": "stream",
     "text": [
      "[-1. -1. -1. -1. -1. -1. -1. -1. -1. -1. -1. -1. -1. -1. -1. -1. -1. -1.\n",
      " -1. -1.  1.  1.  1.  1.  1.  1.  1.  1.  1.  1.  1.  1.  1.  1.  1.  1.\n",
      "  1.  1.  1.  1.]\n"
     ]
    },
    {
     "data": {
      "image/png": "[encoded data removed]",
      "text/plain": [
       "<Figure size 432x288 with 1 Axes>"
      ]
     },
     "metadata": {},
     "output_type": "display_data"
    }
   ],
   "source": [
    "import matplotlib.pyplot as plt\n",
    "\n",
    "x = np.append(np.random.exponential(4, (20,2)),np.random.exponential(0.5, (20,2)),0)\n",
    "y = np.append(-np.ones(20),np.ones(20))\n",
    "plt.scatter(x[:10,0],x[:10,1],c='orange')\n",
    "plt.scatter(x[10:,0],x[10:,1],c='blue')\n",
    "              \n",
    "plt.show()\n",
    "              \n",
    "    "
   ]
  },
  {
   "cell_type": "code",
   "execution_count": 49,
   "metadata": {},
   "outputs": [],
   "source": [
    "def PlotContourLine(func, value=0, minx=0, maxx=10, miny=0, maxy=10):\n",
    "    #This plots the contourline func(x) = value\n",
    "    \n",
    "    samplenum = 1000\n",
    "    xrange = np.arange(minx, maxx, (maxx-minx)/samplenum)\n",
    "    yrange = np.arange(miny, maxy, (maxy-miny)/samplenum)\n",
    "    \n",
    "    #This generates a two-dimensional mesh\n",
    "    X, Y = np.meshgrid(xrange,yrange)\n",
    "    \n",
    "    argsForf = np.array([X.flatten(),Y.flatten()]).T\n",
    "    print(argsForf.shape)\n",
    "    Z = func(argsForf)\n",
    "    Z = np.reshape(Z,X.shape)\n",
    "    \n",
    "    plt.xlim(minx, maxx)\n",
    "    plt.ylim(miny, maxy)\n",
    "    plt.xlabel(r'$x_1$')\n",
    "    plt.ylabel(r'$x_2$')\n",
    "    #plt.contour(X, Y, Z, alpha=0.5,levels=[value],linestyles='dashed',linewidths=3)\n",
    "    Z = np.where(Z > value, 1, -1)\n",
    "    plt.contourf(X, Y, Z, alpha=0.2, colors=('red', 'blue'))"
   ]
  },
  {
   "cell_type": "code",
   "execution_count": 57,
   "metadata": {},
   "outputs": [
    {
     "ename": "SyntaxError",
     "evalue": "invalid syntax (<ipython-input-57-f9e5f6a518b8>, line 14)",
     "output_type": "error",
     "traceback": [
      "\u001b[0;36m  File \u001b[0;32m\"<ipython-input-57-f9e5f6a518b8>\"\u001b[0;36m, line \u001b[0;32m14\u001b[0m\n\u001b[0;31m    PlotContourLine(f)\u001b[0m\n\u001b[0m                  ^\u001b[0m\n\u001b[0;31mSyntaxError\u001b[0m\u001b[0;31m:\u001b[0m invalid syntax\n"
     ]
    }
   ],
   "source": [
    "def SMO(x, y, num_iter, C):\n",
    "    beta = np.zeros(x.shape[0]+1)\n",
    "    fx = np.zeros(x.shape[0])\n",
    "    for i in range(num_iter):\n",
    "        indices = np.random.choice(np.arange(0,beta.size-1), 2, False)\n",
    "        (beta, fx) = OneStep(x, fx, y, beta, C, indices[0], indices[1])\n",
    "    beta[0] = beta[0] - np.sum(fx - y, 0)/fx.shape[0]\n",
    "    return beta\n",
    "\n",
    "for c in [0.01, 1, 100]:\n",
    "    beta = SMO(x, y, 10000, c)\n",
    "    print((beta[:-1]*y)[np.newaxis].shape)\n",
    "    f = lambda t: np.dot((beta[:-1]*y, (x@t.T))+beta[-1]\n",
    "    PlotContourLine(f)\n",
    "    plt.scatter(x[:10,0],x[:10,1], c='orange')\n",
    "    plt.scatter(x[10:,0],x[10:,1],c='blue')\n",
    "    plt.plot()"
   ]
  },
  {
   "cell_type": "code",
   "execution_count": null,
   "metadata": {},
   "outputs": [],
   "source": []
  },
  {
   "cell_type": "code",
   "execution_count": null,
   "metadata": {},
   "outputs": [],
   "source": []
  }
 ],
 "metadata": {
  "kernelspec": {
   "display_name": "Python 3",
   "language": "python",
   "name": "python3"
  },
  "language_info": {
   "codemirror_mode": {
    "name": "ipython",
    "version": 3
   },
   "file_extension": ".py",
   "mimetype": "text/x-python",
   "name": "python",
   "nbconvert_exporter": "python",
   "pygments_lexer": "ipython3",
   "version": "3.5.2"
  }
 },
 "nbformat": 4,
 "nbformat_minor": 2
}
