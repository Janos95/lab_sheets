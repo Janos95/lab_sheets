{
 "cells": [
  {
   "cell_type": "code",
   "execution_count": 29,
   "metadata": {},
   "outputs": [
    {
     "name": "stdout",
     "output_type": "stream",
     "text": [
      "[1 8 3]\n"
     ]
    },
    {
     "data": {
      "text/plain": [
       "4"
      ]
     },
     "execution_count": 29,
     "metadata": {},
     "output_type": "execute_result"
    }
   ],
   "source": [
    "# Testcell\n",
    "import numpy as np\n",
    "x=np.array([1,4,1])\n",
    "y=np.array([1,2,3])\n",
    "z2=x*y\n",
    "print(z2)\n",
    "z=x@y\n",
    "max(3,4)"
   ]
  },
  {
   "cell_type": "code",
   "execution_count": null,
   "metadata": {},
   "outputs": [],
   "source": [
    "import numpy as np\n",
    "\n",
    "#f = lambda t: np.sum(b[1:]*y*(x*t))+b[0]\n",
    "\n",
    "def OneStep(x, fx, y, b, C, [i, j]):\n",
    "    b_iold = b[i]\n",
    "    b_jold = b[j]\n",
    "    d = y[i]*(fx[j]-y[j]-fx[i]+y[i])\n",
    "    s = y[i]*y[j]\n",
    "    chi = x[i]@x[i]+x[j]@x[j]-2*x[i]@x[j]\n",
    "    gamma = s*b[i]+b[j]\n",
    "    if s == 1:\n",
    "        L = max(0,gamma-C)\n",
    "        H = min(gamma, C)\n",
    "    else:\n",
    "        L = max(0,-gamma)\n",
    "        H = min(C,C-gamma)\n",
    "        \n",
    "    if chi>0:\n",
    "        b[i] = min(max(b[i]+d/chi,L),H)\n",
    "        else:\n",
    "            if d>0: b[i] = L\n",
    "            else: b[i] = H\n",
    "    b[j] = gamma-s*b[i]\n",
    "    fx = fx + (b[i]-b_iold)*y[i]*(x@x[i]) + (b[j]-b_jold)*y[j]*(x@x[j])\n",
    "    b[0] = b[0] + (fx[j]-y[j]-fx[i]+y[i])/2\n",
    "    return(b, fx)"
   ]
  }
 ],
 "metadata": {
  "kernelspec": {
   "display_name": "Python 3",
   "language": "python",
   "name": "python3"
  },
  "language_info": {
   "codemirror_mode": {
    "name": "ipython",
    "version": 3
   },
   "file_extension": ".py",
   "mimetype": "text/x-python",
   "name": "python",
   "nbconvert_exporter": "python",
   "pygments_lexer": "ipython3",
   "version": "3.6.4"
  }
 },
 "nbformat": 4,
 "nbformat_minor": 2
}
