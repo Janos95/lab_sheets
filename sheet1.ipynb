{
 "cells": [
  {
   "cell_type": "code",
   "execution_count": 2,
   "metadata": {},
   "outputs": [
    {
     "data": {
      "image/png": "[encoded data removed]",
      "text/plain": [
       "<Figure size 432x288 with 1 Axes>"
      ]
     },
     "metadata": {},
     "output_type": "display_data"
    }
   ],
   "source": [
    "import numpy as np\n",
    "import matplotlib.pyplot as plt\n",
    "\n",
    "mean_a = np.array([1.5, 0])\n",
    "\n",
    "cov = np.eye(2)\n",
    "\n",
    "a = np.random.multivariate_normal(mean_a,cov,10)\n",
    "\n",
    "plt.scatter(a[:,0],a[:,1], c='orange')\n",
    "\n",
    "b = np.random.multivariate_normal(mean_a[::-1],cov,20)\n",
    "\n",
    "plt.scatter(b[:,0],b[:,1],c='blue')\n",
    "\n",
    "plt.show()"
   ]
  },
  {
   "cell_type": "code",
   "execution_count": null,
   "metadata": {},
   "outputs": [],
   "source": []
  },
  {
   "cell_type": "code",
   "execution_count": 3,
   "metadata": {},
   "outputs": [
    {
     "data": {
      "text/plain": [
       "<matplotlib.collections.PathCollection at 0x7fd1d9cbb080>"
      ]
     },
     "execution_count": 3,
     "metadata": {},
     "output_type": "execute_result"
    },
    {
     "data": {
      "image/png": "[encoded data removed]",
      "text/plain": [
       "<Figure size 432x288 with 1 Axes>"
      ]
     },
     "metadata": {},
     "output_type": "display_data"
    }
   ],
   "source": [
    "indices = np.random.randint(0,10,200)\n",
    "noise = np.random.multivariate_normal(np.zeros(2),0.25*cov,200)\n",
    "x = np.append(a[indices[:100]], b[indices[100:]], 0) + noise \n",
    "y = np.append(np.zeros(100), np.ones(100))\n",
    "\n",
    "plt.scatter(x[:100,0], x[:100,1],c='orange')\n",
    "\n",
    "plt.scatter(x[100:,0], x[100:,1],c='blue')\n"
   ]
  },
  {
   "cell_type": "code",
   "execution_count": 6,
   "metadata": {},
   "outputs": [],
   "source": [
    "import numpy.linalg as LA\n",
    "def lls(x,y):\n",
    "    X_hat = np.hstack((np.ones((x.shape[0],1)), x))\n",
    "    b = np.dot(X_hat.T, y)\n",
    "    q, r = LA.qr(np.dot(X_hat.T, X_hat))\n",
    "    p = np.dot(q.T, b)\n",
    "    alpha = np.dot(LA.inv(r), p)\n",
    "    return alpha\n"
   ]
  },
  {
   "cell_type": "code",
   "execution_count": 28,
   "metadata": {},
   "outputs": [],
   "source": [
    "#applies linear map alpha to x\n",
    "#Values x have to be passed as n times 2 array\n",
    "def apply(alpha,x):\n",
    "    x_hat = np.hstack((np.ones((x.shape[0],1)), x))\n",
    "    return np.dot(x_hat, alpha)\n",
    "\n",
    "def PlotContourLine(func, value=0, minx=0, maxx=10, miny=0, maxy=10):\n",
    "    #This plots the contourline func(x) = value\n",
    "    \n",
    "    samplenum = 1000\n",
    "    xrange = np.arange(minx, maxx, (maxx-minx)/samplenum)\n",
    "    yrange = np.arange(miny, maxy, (maxy-miny)/samplenum)\n",
    "    \n",
    "    #This generates a two-dimensional mesh\n",
    "    X, Y = np.meshgrid(xrange,yrange)\n",
    "    \n",
    "    argsForf = np.array([X.flatten(),Y.flatten()]).T\n",
    "    Z = func(argsForf)\n",
    "    Z = np.reshape(Z,X.shape)\n",
    "    \n",
    "    plt.xlim(minx, maxx)\n",
    "    plt.ylim(miny, maxy)\n",
    "    plt.xlabel(r'$x_1$')\n",
    "    plt.ylabel(r'$x_2$')\n",
    "    #plt.contour(X, Y, Z, alpha=0.5,levels=[value],linestyles='dashed',linewidths=3)\n",
    "    Z = np.where(Z > value, 1, -1)\n",
    "    plt.contourf(X, Y, Z, alpha=0.2, colors=('red', 'blue'))"
   ]
  },
  {
   "cell_type": "code",
   "execution_count": 29,
   "metadata": {},
   "outputs": [
    {
     "data": {
      "text/plain": [
       "<matplotlib.collections.PathCollection at 0x7fd1d9b2d0f0>"
      ]
     },
     "execution_count": 29,
     "metadata": {},
     "output_type": "execute_result"
    },
    {
     "data": {
      "image/png": "[encoded data removed]",
      "text/plain": [
       "<Figure size 432x288 with 1 Axes>"
      ]
     },
     "metadata": {},
     "output_type": "display_data"
    }
   ],
   "source": [
    "alpha = lls(x,y)\n",
    "f = lambda x: apply(alpha,x)\n",
    "\n",
    "PlotContourLine(f, 0.5, -3.0, 4.0, -3.0, 4.0)\n",
    "\n",
    "plt.scatter(x[:100,0], x[:100,1],c='orange')\n",
    "\n",
    "plt.scatter(x[100:,0], x[100:,1],c='blue')"
   ]
  },
  {
   "cell_type": "code",
   "execution_count": 43,
   "metadata": {
    "scrolled": true
   },
   "outputs": [
    {
     "name": "stdout",
     "output_type": "stream",
     "text": [
      "The confusion matrix for our training data is:\n",
      " [[ 50.   0.]\n",
      " [  0. 100.]]\n",
      "The accuracy of the model is:  1.0\n"
     ]
    }
   ],
   "source": [
    "#the vector y is the ground truth for the test points x. \n",
    "#In particular we need the length of y to be the same as the length of x.\n",
    "def compute_confusion_matrix(x, y, n):\n",
    "    c = np.empty((n,n))\n",
    "    y_predicted = np.rint(np.clip(f(x),0,1).astype(np.double))\n",
    "    for i in range(0, n):\n",
    "        for j in range(0, n):\n",
    "            c[i,j] = np.sum(np.logical_and(y_predicted == i, y == j))\n",
    "    return c\n",
    "\n",
    "c = compute_confusion_matrix(x,y,2)\n",
    "print(\"The confusion matrix for our training data is:\\n\" ,c)\n",
    "print(\"The accuracy of the model is: \",  np.trace(c)/x.shape[0])\n",
    "\n"
   ]
  },
  {
   "cell_type": "code",
   "execution_count": null,
   "metadata": {},
   "outputs": [],
   "source": [
    "indices = np.random.randint(0,10,20000)\n",
    "noise = np.random.multivariate_normal(np.zeros(2),0.25*cov,20000)\n",
    "\n",
    "x_test = np.append(a[indices[:10000]], b[indices[10000:]], 0) + noise \n",
    "y_test = np.append(np.zeros(10000), np.ones(10000))\n",
    "\n",
    "c_test = compute_confusion_matrix(x_test, y_test)\n",
    "print(\"The confusion matrix for our test data is:\\n\" ,c_test)\n",
    "print(\"The accuracy of the model is: \",  np.trace(c_test)/x_test.shape[0])"
   ]
  },
  {
   "cell_type": "markdown",
   "metadata": {},
   "source": [
    "The accuracy of the model decreased on the test set as expected, since\n",
    "by construction the seperating hyperplane minimizes the error only on the training set.\n",
    "One could say that our model is overfitting."
   ]
  },
  {
   "cell_type": "code",
   "execution_count": 32,
   "metadata": {},
   "outputs": [
    {
     "data": {
      "text/plain": [
       "<matplotlib.collections.PathCollection at 0x7fd1cebc86a0>"
      ]
     },
     "execution_count": 32,
     "metadata": {},
     "output_type": "execute_result"
    },
    {
     "data": {
      "image/png": "[encoded data removed]",
      "text/plain": [
       "<Figure size 432x288 with 1 Axes>"
      ]
     },
     "metadata": {},
     "output_type": "display_data"
    }
   ],
   "source": [
    "import pandas as pd\n",
    "url = 'https://archive.ics.uci.edu/ml/machine-learning-databases/iris/iris.data'\n",
    "irisDataFrame = pd.read_csv(url, header=None)\n",
    "\n",
    "x = irisDataFrame.values[:,:2]\n",
    "y = irisDataFrame.values[:,4] != 'Iris-setosa'\n",
    "\n",
    "alpha = lls(x,y)\n",
    "f = lambda x: apply(alpha,x)\n",
    "\n",
    "num_setosa = np.where(y==1)[0][0]\n",
    "\n",
    "PlotContourLine(f,0.5,4,8,1,5)\n",
    "plt.scatter(x[:num_setosa,0], x[:num_setosa,1],c='orange')\n",
    "plt.scatter(x[num_setosa:,0], x[num_setosa:,1],c='blue')\n",
    "\n"
   ]
  },
  {
   "cell_type": "code",
   "execution_count": 44,
   "metadata": {},
   "outputs": [
    {
     "name": "stdout",
     "output_type": "stream",
     "text": [
      "The confusion matrix for our test data is:\n",
      " [[ 50.   0.]\n",
      " [  0. 100.]]\n",
      "The accuracy of the model is:  1.0\n"
     ]
    }
   ],
   "source": [
    "x = irisDataFrame.values[:,:4]\n",
    "alpha = lls(x,y)\n",
    "f = lambda x: apply(alpha,x)\n",
    "\n",
    "c = compute_confusion_matrix(x, y,2)\n",
    "print(\"The confusion matrix for our test data is:\\n\" ,c)\n",
    "print(\"The accuracy of the model is: \",  np.trace(c)/x.shape[0])\n"
   ]
  },
  {
   "cell_type": "code",
   "execution_count": null,
   "metadata": {},
   "outputs": [],
   "source": [
    "x = irisDataFrame.values[:,:2]\n",
    "y = irisDataFrame.values[:,4] != 'Iris-versicolor'\n",
    "\n",
    "alpha = lls(x,y)\n",
    "f = lambda x: apply(alpha,x)\n",
    "\n",
    "PlotContourLine(f,0.5,4,8,1,5)\n",
    "plt.scatter(x[:50,0], x[:50,1],c='orange')\n",
    "plt.scatter(x[50:100,0], x[50:100,1],c='blue')\n",
    "plt.scatter(x[100:150,0], x[100:150,1],c='orange')\n",
    "\n",
    "x = irisDataFrame.values[:,:4]\n",
    "alpha = lls(x,y)\n",
    "f = lambda x: apply(alpha,x)\n",
    "\n",
    "c = compute_confusion_matrix(x, y,2)\n",
    "print(\"The confusion matrix for our test data is:\\n\" ,c)\n",
    "print(\"The accuracy of the model is: \",  np.trace(c)/x.shape[0])\n",
    "\n"
   ]
  },
  {
   "cell_type": "markdown",
   "metadata": {},
   "source": [
    "The data is not linearly separable anymore."
   ]
  },
  {
   "cell_type": "code",
   "execution_count": 84,
   "metadata": {},
   "outputs": [
    {
     "name": "stdout",
     "output_type": "stream",
     "text": [
      "Cnvergence:  False\n",
      "10000\n",
      "10000\n",
      "[-0.2888903745778506 -0.40388639112155933 -0.37424669187894155\n",
      " -0.40075133248229755 -0.27407052495654183 -0.18871420765545066\n",
      " -0.3387645971453006 -0.3153950151812064 -0.45376061368900933\n",
      " -0.38322414600922694 -0.23003869788011522 -0.3270798061632536\n",
      " -0.40972878661258294 -0.43894076406770055 -0.14468238057902416\n",
      " -0.06787579562071833 -0.18871420765545066 -0.2888903745778506\n",
      " -0.19184926629471244 -0.22690363924085366 -0.29202543321711216\n",
      " -0.24756588435318594 -0.29744010692063594 -0.3302148648025153\n",
      " -0.3270798061632536 -0.3980439956305357 -0.3153950151812064\n",
      " -0.283047979086827 -0.3037102241991594 -0.37424669187894155\n",
      " -0.38906654150025055 -0.29202543321711216 -0.1590745084128331\n",
      " -0.1208850768274301 -0.38322414600922694 -0.35671950540587094\n",
      " -0.2655207926137564 -0.38322414600922694 -0.43309836857667694\n",
      " -0.3095526196901829 -0.2947327700688742 -0.5718916888719797\n",
      " -0.39177387835201216 -0.2947327700688742 -0.22690363924085366\n",
      " -0.40972878661258294 -0.22690363924085366 -0.38008908736996516\n",
      " -0.23588109337113883 -0.3360572602935388 0.7601284044146\n",
      " 0.7250740314684587 0.733623763811244 0.4865322660382557\n",
      " 0.6482674465101528 0.6015282825819643 0.7398938810897673\n",
      " 0.47214013820444684 0.6747720871135087 0.5516540600145146\n",
      " 0.3953335532461411 0.6545375637886761 0.4950819983810413\n",
      " 0.645560109658391 0.6163481322032732 0.721938972829197 0.6370103773156055\n",
      " 0.5867084329606558 0.5067667893630883 0.533699151753944\n",
      " 0.6958620540133409 0.6248978645460586 0.5745959201911088\n",
      " 0.6248978645460586 0.6630872961314616 0.695434332225841\n",
      " 0.6657946329832234 0.7012767277168646 0.6397177141673674\n",
      " 0.5602037923572998 0.507194511150588 0.507194511150588 0.5867084329606558\n",
      " 0.5983932239427029 0.6253255863335585 0.7430289397290291\n",
      " 0.721938972829197 0.533271429966444 0.6370103773156055 0.5278567562629204\n",
      " 0.5485190013752528 0.6662223547707232 0.5660461878483234\n",
      " 0.457320288583138 0.5750236419786087 0.6428527728066291\n",
      " 0.6221905276942967 0.6514025051494146 0.5044871742988263\n",
      " 0.6015282825819643 -0.2601061189102327 -0.4132915670393442\n",
      " -0.27535369031904133 -0.34275509935956194 -0.31040806326518255\n",
      " -0.2461417128639236 -0.5071976166832208 -0.2843311444493265\n",
      " -0.40203449784479695 -0.14553782415402372 -0.2690835730405178\n",
      " -0.378237194093203 -0.29288087679211194 -0.4604584527550324\n",
      " -0.39262932192701205 -0.2749259685315413 -0.31040806326518255\n",
      " -0.07500135647424144 -0.3229482978222292 -0.5049180016189587\n",
      " -0.24571399107642367 -0.40431411290905916 -0.28162380759756467\n",
      " -0.3840795895842265 -0.2367365369461385 -0.22818680460335294\n",
      " -0.36925973996291783 -0.3337776452292768 -0.35757494898087083\n",
      " -0.2695112948280177 -0.2991509940706354 -0.06331656549219433\n",
      " -0.35757494898087083 -0.36341734447189433 -0.416426625678606\n",
      " -0.2402993173729 -0.23944387379790033 -0.29558821364387367\n",
      " -0.3396200407203003 -0.26637623618875605 -0.27806102717080305\n",
      " -0.26637623618875605 -0.4132915670393442 -0.25155638656744717\n",
      " -0.2367365369461385 -0.29872327228313544 -0.42540407980889117\n",
      " -0.31040806326518255 -0.24528626928892394 -0.3454624362113239]\n",
      "[-0.3100311235516825 0.05842395491023546 0.20662245112332317]\n"
     ]
    },
    {
     "data": {
      "text/plain": [
       "<matplotlib.collections.PathCollection at 0x7fd1ceccfa58>"
      ]
     },
     "execution_count": 84,
     "metadata": {},
     "output_type": "execute_result"
    },
    {
     "data": {
      "image/png": "[encoded data removed]",
      "text/plain": [
       "<Figure size 432x288 with 1 Axes>"
      ]
     },
     "metadata": {},
     "output_type": "display_data"
    }
   ],
   "source": [
    "import numpy.linalg as LA \n",
    "\n",
    "\n",
    "def grad_decent(x,y):\n",
    "    alpha = np.random.randn(x.shape[1]+1)\n",
    "    max_step = 10000\n",
    "    f = lambda x: apply(alpha,x)\n",
    "    step = 0\n",
    "    while(LA.norm(f(x)-y) > 10e-4 and step < max_step):\n",
    "        f = lambda x: apply(alpha,x)\n",
    "        alpha = alpha - nu * 2.0/150 * np.dot(np.hstack((np.ones((x.shape[0],1)), x)).T, f(x)-y)\n",
    "        step = step + 1\n",
    "    print(\"Cnvergence: \", LA.norm(f(x)-y) < 10e-4)\n",
    "    print(step)\n",
    "    print(max_step)\n",
    "    return alpha\n",
    "\n",
    "x = irisDataFrame.values[:,:2]\n",
    "y = irisDataFrame.values[:,4] != 'Iris-versicolor'\n",
    "\n",
    "nu = 1e-4\n",
    "alpha = grad_decent(x,y)\n",
    "f = lambda x: apply(alpha,x)\n",
    "\n",
    "print(f(x)-y)\n",
    "\n",
    "print(alpha)\n",
    "\n",
    "PlotContourLine(f,0.5,4,8,1,5)\n",
    "plt.scatter(x[:50,0], x[:50,1],c='orange')\n",
    "plt.scatter(x[50:100,0], x[50:100,1],c='blue')\n",
    "plt.scatter(x[100:150,0], x[100:150,1],c='orange')\n",
    "\n",
    "# x = irisDataFrame.values[:,:4]\n",
    "# alpha = grad_decent(x,y)\n",
    "# f = lambda x: apply(alpha,x)\n",
    "\n",
    "# c = compute_confusion_matrix(x, y,2)\n",
    "# print(\"The confusion matrix for our test data is:\\n\" ,c)\n",
    "# print(\"The accuracy of the model is: \",  np.trace(c)/x.shape[0])\n",
    "          \n"
   ]
  },
  {
   "cell_type": "code",
   "execution_count": null,
   "metadata": {},
   "outputs": [],
   "source": []
  }
 ],
 "metadata": {
  "kernelspec": {
   "display_name": "Python 3",
   "language": "python",
   "name": "python3"
  },
  "language_info": {
   "codemirror_mode": {
    "name": "ipython",
    "version": 3
   },
   "file_extension": ".py",
   "mimetype": "text/x-python",
   "name": "python",
   "nbconvert_exporter": "python",
   "pygments_lexer": "ipython3",
   "version": "3.5.2"
  }
 },
 "nbformat": 4,
 "nbformat_minor": 2
}
